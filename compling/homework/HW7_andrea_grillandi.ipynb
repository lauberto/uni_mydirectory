{
  "nbformat": 4,
  "nbformat_minor": 0,
  "metadata": {
    "colab": {
      "name": "HW7_andrea.grillandi.ipynb",
      "provenance": []
    },
    "kernelspec": {
      "name": "python3",
      "display_name": "Python 3"
    }
  },
  "cells": [
    {
      "cell_type": "markdown",
      "metadata": {
        "id": "9bVYUbo58oC-",
        "colab_type": "text"
      },
      "source": [
        "### Домашнее задание 7 - Студент: Андреа Грилланди\n",
        "\n",
        "Оценивание - если вы сделали всё вышеперечисленное - 10 баллов. Каждая ошибка - минус 0.5 балла. \n",
        "\n",
        "Выложите код к себе на гитхаб и вставьте ссылку в поле ниже (в тетрадке должны быть показатели метрик и ваши комментарии)."
      ]
    },
    {
      "cell_type": "markdown",
      "metadata": {
        "id": "Y4ZFmgXT88KS",
        "colab_type": "text"
      },
      "source": [
        "#### Нужные библиотеки и функции"
      ]
    },
    {
      "cell_type": "code",
      "metadata": {
        "id": "hWsuxl0E9UNb",
        "colab_type": "code",
        "colab": {}
      },
      "source": [
        "# !pip install pymorphy2"
      ],
      "execution_count": 0,
      "outputs": []
    },
    {
      "cell_type": "code",
      "metadata": {
        "id": "qjmpCUVK-Cu2",
        "colab_type": "code",
        "colab": {}
      },
      "source": [
        "import nltk"
      ],
      "execution_count": 0,
      "outputs": []
    },
    {
      "cell_type": "code",
      "metadata": {
        "id": "13bIqrYu9ggq",
        "colab_type": "code",
        "colab": {
          "base_uri": "https://localhost:8080/",
          "height": 68
        },
        "outputId": "f563a3fb-04ca-48cb-eebf-eecb7ded4cee"
      },
      "source": [
        "nltk.download(\"stopwords\")"
      ],
      "execution_count": 2,
      "outputs": [
        {
          "output_type": "stream",
          "text": [
            "[nltk_data] Downloading package stopwords to /root/nltk_data...\n",
            "[nltk_data]   Package stopwords is already up-to-date!\n"
          ],
          "name": "stdout"
        },
        {
          "output_type": "execute_result",
          "data": {
            "text/plain": [
              "True"
            ]
          },
          "metadata": {
            "tags": []
          },
          "execution_count": 2
        }
      ]
    },
    {
      "cell_type": "code",
      "metadata": {
        "id": "w8uzchIi75Yc",
        "colab_type": "code",
        "colab": {}
      },
      "source": [
        "import pandas as pd\n",
        "from lxml import html\n",
        "import numpy as np\n",
        "from tqdm import tqdm\n",
        "from matplotlib import pyplot as plt\n",
        "from sklearn.decomposition import TruncatedSVD, NMF, PCA\n",
        "from sklearn.manifold import TSNE\n",
        "from sklearn.feature_extraction.text import TfidfVectorizer, CountVectorizer\n",
        "from sklearn.metrics.pairwise import cosine_distances\n",
        "from sklearn.ensemble import RandomForestClassifier\n",
        "import gensim\n",
        "import numpy as np\n",
        "from sklearn.cluster import MiniBatchKMeans\n",
        "from sklearn.linear_model import LogisticRegression\n",
        "from sklearn.model_selection import train_test_split\n",
        "from sklearn.model_selection import cross_val_score\n",
        "from sklearn import preprocessing\n",
        "from sklearn.metrics import classification_report\n",
        "from collections import Counter,defaultdict\n",
        "from string import punctuation\n",
        "import os\n",
        "from nltk.corpus import stopwords\n",
        "from pymorphy2 import MorphAnalyzer\n",
        "%matplotlib inline\n",
        "\n",
        "from pymystem3 import Mystem\n",
        "m = Mystem()\n",
        "\n",
        "morph = MorphAnalyzer()\n",
        "punct = punctuation+'«»—…“”*№–'\n",
        "stops = set(stopwords.words('russian'))\n",
        "\n",
        "def normalize(text):\n",
        "    \n",
        "    words = [word.strip(punct) for word in text.lower().split()]\n",
        "    words = [morph.parse(word)[0].normal_form for word in words if word and word not in stops]\n",
        "\n",
        "    return ' '.join(words)\n",
        "\n",
        "def tokenize(text):\n",
        "    \n",
        "    words = [word.strip(punct) for word in text.lower().split()]\n",
        "\n",
        "    return ' '.join(words)"
      ],
      "execution_count": 0,
      "outputs": []
    },
    {
      "cell_type": "code",
      "metadata": {
        "id": "NdwgGkqYNzTW",
        "colab_type": "code",
        "colab": {}
      },
      "source": [
        "pd.set_option('display.max_columns', 100)\n",
        "pd.set_option('display.max_rows', 100)"
      ],
      "execution_count": 0,
      "outputs": []
    },
    {
      "cell_type": "markdown",
      "metadata": {
        "id": "1uNQedhl-mGL",
        "colab_type": "text"
      },
      "source": [
        "### Задача 1\n",
        "1) Векторизуйте тексты с помощью Word2vec модели, обученной самостоятельно, и с помощью модели, взятой с rusvectores (любой). Обучите 2 модели по определению перефразирования на получившихся векторах и проверьте, что работает лучше. \n",
        "Word2Vec нужно обучить на отдельном корпусе (не на парафразах). Можно взять данные из семинара или любые другие. \n",
        "ВАЖНО: Оценивать модели нужно с помощью кросс-валидации! Метрика - f1."
      ]
    },
    {
      "cell_type": "code",
      "metadata": {
        "id": "QXQkDouo9ZvO",
        "colab_type": "code",
        "colab": {
          "base_uri": "https://localhost:8080/",
          "height": 34
        },
        "outputId": "bf44f20b-1638-4748-99ae-7dadbf328ea7"
      },
      "source": [
        "from google.colab import drive\n",
        "drive.mount('/content/drive')"
      ],
      "execution_count": 5,
      "outputs": [
        {
          "output_type": "stream",
          "text": [
            "Drive already mounted at /content/drive; to attempt to forcibly remount, call drive.mount(\"/content/drive\", force_remount=True).\n"
          ],
          "name": "stdout"
        }
      ]
    },
    {
      "cell_type": "code",
      "metadata": {
        "id": "BZX1C_TPPJS7",
        "colab_type": "code",
        "colab": {}
      },
      "source": [
        "# mapping = {}\n",
        "\n",
        "# for line in open(os.path.join(os.getcwd(), 'drive', 'My Drive', 'ru-rnc.map.txt')):\n",
        "#     ms, ud = line.strip('\\n').split()\n",
        "#     mapping[ms] = ud"
      ],
      "execution_count": 0,
      "outputs": []
    },
    {
      "cell_type": "code",
      "metadata": {
        "id": "1TYCJRSvQEE_",
        "colab_type": "code",
        "colab": {}
      },
      "source": [
        "# def normalize_mystem(text):\n",
        "#     tokens = []\n",
        "#     norm_words = m.analyze(text)\n",
        "#     for norm_word in norm_words:\n",
        "#         if 'analysis' not in norm_word:\n",
        "#             continue\n",
        "            \n",
        "#         if not len(norm_word['analysis']):\n",
        "#             lemma = norm_word['text']\n",
        "#             pos = 'UNKN'\n",
        "#         else:\n",
        "#             lemma = norm_word[\"analysis\"][0][\"lex\"].lower().strip()\n",
        "#             pos = norm_word[\"analysis\"][0][\"gr\"].split(',')[0]\n",
        "#             pos = pos.split('=')[0].strip()\n",
        "#         pos = mapping[pos]\n",
        "#         tokens.append(lemma+'_'+pos)\n",
        "\n",
        "#     return ' '.join(tokens)"
      ],
      "execution_count": 0,
      "outputs": []
    },
    {
      "cell_type": "code",
      "metadata": {
        "id": "8yI-S77YAp0m",
        "colab_type": "code",
        "colab": {}
      },
      "source": [
        "# os.listdir(os.path.join(os.getcwd(), 'drive', 'My Drive'))"
      ],
      "execution_count": 0,
      "outputs": []
    },
    {
      "cell_type": "code",
      "metadata": {
        "id": "_nKbxHMeAZih",
        "colab_type": "code",
        "colab": {}
      },
      "source": [
        "# import zipfile\n",
        "# with zipfile.ZipFile(os.path.join(os.getcwd(), 'drive', 'My Drive', 'paraphraser.zip'), 'r') as zip_ref:\n",
        "#     zip_ref.extractall(os.path.join(os.getcwd(), 'drive', 'My Drive'))"
      ],
      "execution_count": 0,
      "outputs": []
    },
    {
      "cell_type": "code",
      "metadata": {
        "id": "wWQQodL9BZmR",
        "colab_type": "code",
        "colab": {}
      },
      "source": [
        "# corpus_xml = html.fromstring(open(os.path.join(os.getcwd(), 'drive', 'My Drive', 'paraphrases.xml'), 'rb').read())\n",
        "# texts_1 = []\n",
        "# texts_2 = []\n",
        "# classes = []\n",
        "\n",
        "# for p in corpus_xml.xpath('//paraphrase'):\n",
        "#     texts_1.append(p.xpath('./value[@name=\"text_1\"]/text()')[0])\n",
        "#     texts_2.append(p.xpath('./value[@name=\"text_2\"]/text()')[0])\n",
        "#     classes.append(p.xpath('./value[@name=\"class\"]/text()')[0])\n",
        "    \n",
        "# data = pd.DataFrame({'label':classes, 'text_1':texts_1, 'text_2':texts_2})"
      ],
      "execution_count": 0,
      "outputs": []
    },
    {
      "cell_type": "code",
      "metadata": {
        "id": "XiYoWpcAYJff",
        "colab_type": "code",
        "colab": {}
      },
      "source": [
        "data = pd.read_csv(os.path.join(os.getcwd(), 'drive', 'My Drive', 'data_paraphraser_norm.csv'), encoding='utf-8')"
      ],
      "execution_count": 0,
      "outputs": []
    },
    {
      "cell_type": "code",
      "metadata": {
        "id": "xtqZ2dwIC8oU",
        "colab_type": "code",
        "colab": {}
      },
      "source": [
        "data['text_1_n'] = data['text_1'].apply(normalize)\n",
        "data['text_2_n'] = data['text_2'].apply(normalize)"
      ],
      "execution_count": 0,
      "outputs": []
    },
    {
      "cell_type": "code",
      "metadata": {
        "id": "w_-FFvPTZJ3d",
        "colab_type": "code",
        "colab": {
          "base_uri": "https://localhost:8080/",
          "height": 34
        },
        "outputId": "6c24334a-1f5b-4c7f-a046-2a561fe614ea"
      },
      "source": [
        "data.shape"
      ],
      "execution_count": 24,
      "outputs": [
        {
          "output_type": "execute_result",
          "data": {
            "text/plain": [
              "(7227, 7)"
            ]
          },
          "metadata": {
            "tags": []
          },
          "execution_count": 24
        }
      ]
    },
    {
      "cell_type": "code",
      "metadata": {
        "id": "jEZwD11rCu9G",
        "colab_type": "code",
        "colab": {
          "base_uri": "https://localhost:8080/",
          "height": 374
        },
        "outputId": "7d510069-96fc-47c8-f31b-751d5f4154d0"
      },
      "source": [
        "data.head()"
      ],
      "execution_count": 25,
      "outputs": [
        {
          "output_type": "execute_result",
          "data": {
            "text/html": [
              "<div>\n",
              "<style scoped>\n",
              "    .dataframe tbody tr th:only-of-type {\n",
              "        vertical-align: middle;\n",
              "    }\n",
              "\n",
              "    .dataframe tbody tr th {\n",
              "        vertical-align: top;\n",
              "    }\n",
              "\n",
              "    .dataframe thead th {\n",
              "        text-align: right;\n",
              "    }\n",
              "</style>\n",
              "<table border=\"1\" class=\"dataframe\">\n",
              "  <thead>\n",
              "    <tr style=\"text-align: right;\">\n",
              "      <th></th>\n",
              "      <th>label</th>\n",
              "      <th>text_1</th>\n",
              "      <th>text_2</th>\n",
              "      <th>text_1_norm</th>\n",
              "      <th>text_2_norm</th>\n",
              "      <th>text_1_n</th>\n",
              "      <th>text_2_n</th>\n",
              "    </tr>\n",
              "  </thead>\n",
              "  <tbody>\n",
              "    <tr>\n",
              "      <th>0</th>\n",
              "      <td>0</td>\n",
              "      <td>Полицейским разрешат стрелять на поражение по ...</td>\n",
              "      <td>Полиции могут разрешить стрелять по хулиганам ...</td>\n",
              "      <td>полицейский_NOUN разрешать_VERB стрелять_VERB ...</td>\n",
              "      <td>полиция_NOUN мочь_VERB разрешать_VERB стрелять...</td>\n",
              "      <td>полицейский разрешить стрелять поражение гражд...</td>\n",
              "      <td>полиция мочь разрешить стрелять хулиган травма...</td>\n",
              "    </tr>\n",
              "    <tr>\n",
              "      <th>1</th>\n",
              "      <td>0</td>\n",
              "      <td>Право полицейских на проникновение в жилище ре...</td>\n",
              "      <td>Правила внесудебного проникновения полицейских...</td>\n",
              "      <td>право_ADV полицейский_NOUN на_ADP проникновени...</td>\n",
              "      <td>правило_NOUN внесудебный_ADJ проникновение_NOU...</td>\n",
              "      <td>право полицейский проникновение жилища решить ...</td>\n",
              "      <td>правило внесудебный проникновение полицейский ...</td>\n",
              "    </tr>\n",
              "    <tr>\n",
              "      <th>2</th>\n",
              "      <td>0</td>\n",
              "      <td>Президент Египта ввел чрезвычайное положение в...</td>\n",
              "      <td>Власти Египта угрожают ввести в стране чрезвыч...</td>\n",
              "      <td>президент_NOUN египет_NOUN вводить_VERB чрезвы...</td>\n",
              "      <td>власть_NOUN египет_NOUN угрожать_VERB вводить_...</td>\n",
              "      <td>президент египет ввести чрезвычайный положение...</td>\n",
              "      <td>власть египет угрожать ввести страна чрезвычай...</td>\n",
              "    </tr>\n",
              "    <tr>\n",
              "      <th>3</th>\n",
              "      <td>-1</td>\n",
              "      <td>Вернувшихся из Сирии россиян волнует вопрос тр...</td>\n",
              "      <td>Самолеты МЧС вывезут россиян из разрушенной Си...</td>\n",
              "      <td>вернуться_VERB из_ADP сирия_NOUN россиянин_NOU...</td>\n",
              "      <td>самолет_NOUN мчс_NOUN вывозить_VERB россиянин_...</td>\n",
              "      <td>вернуться сирия россиянин волновать вопрос тру...</td>\n",
              "      <td>самолёт мчс вывезти россиянин разрушить сирия</td>\n",
              "    </tr>\n",
              "    <tr>\n",
              "      <th>4</th>\n",
              "      <td>0</td>\n",
              "      <td>В Москву из Сирии вернулись 2 самолета МЧС с р...</td>\n",
              "      <td>Самолеты МЧС вывезут россиян из разрушенной Си...</td>\n",
              "      <td>в_ADP москва_NOUN из_ADP сирия_NOUN вернуться_...</td>\n",
              "      <td>самолет_NOUN мчс_NOUN вывозить_VERB россиянин_...</td>\n",
              "      <td>москва сирия вернуться 2 самолёт мчс россиянин...</td>\n",
              "      <td>самолёт мчс вывезти россиянин разрушить сирия</td>\n",
              "    </tr>\n",
              "  </tbody>\n",
              "</table>\n",
              "</div>"
            ],
            "text/plain": [
              "   label                                             text_1  \\\n",
              "0      0  Полицейским разрешат стрелять на поражение по ...   \n",
              "1      0  Право полицейских на проникновение в жилище ре...   \n",
              "2      0  Президент Египта ввел чрезвычайное положение в...   \n",
              "3     -1  Вернувшихся из Сирии россиян волнует вопрос тр...   \n",
              "4      0  В Москву из Сирии вернулись 2 самолета МЧС с р...   \n",
              "\n",
              "                                              text_2  \\\n",
              "0  Полиции могут разрешить стрелять по хулиганам ...   \n",
              "1  Правила внесудебного проникновения полицейских...   \n",
              "2  Власти Египта угрожают ввести в стране чрезвыч...   \n",
              "3  Самолеты МЧС вывезут россиян из разрушенной Си...   \n",
              "4  Самолеты МЧС вывезут россиян из разрушенной Си...   \n",
              "\n",
              "                                         text_1_norm  \\\n",
              "0  полицейский_NOUN разрешать_VERB стрелять_VERB ...   \n",
              "1  право_ADV полицейский_NOUN на_ADP проникновени...   \n",
              "2  президент_NOUN египет_NOUN вводить_VERB чрезвы...   \n",
              "3  вернуться_VERB из_ADP сирия_NOUN россиянин_NOU...   \n",
              "4  в_ADP москва_NOUN из_ADP сирия_NOUN вернуться_...   \n",
              "\n",
              "                                         text_2_norm  \\\n",
              "0  полиция_NOUN мочь_VERB разрешать_VERB стрелять...   \n",
              "1  правило_NOUN внесудебный_ADJ проникновение_NOU...   \n",
              "2  власть_NOUN египет_NOUN угрожать_VERB вводить_...   \n",
              "3  самолет_NOUN мчс_NOUN вывозить_VERB россиянин_...   \n",
              "4  самолет_NOUN мчс_NOUN вывозить_VERB россиянин_...   \n",
              "\n",
              "                                            text_1_n  \\\n",
              "0  полицейский разрешить стрелять поражение гражд...   \n",
              "1  право полицейский проникновение жилища решить ...   \n",
              "2  президент египет ввести чрезвычайный положение...   \n",
              "3  вернуться сирия россиянин волновать вопрос тру...   \n",
              "4  москва сирия вернуться 2 самолёт мчс россиянин...   \n",
              "\n",
              "                                            text_2_n  \n",
              "0  полиция мочь разрешить стрелять хулиган травма...  \n",
              "1  правило внесудебный проникновение полицейский ...  \n",
              "2  власть египет угрожать ввести страна чрезвычай...  \n",
              "3      самолёт мчс вывезти россиянин разрушить сирия  \n",
              "4      самолёт мчс вывезти россиянин разрушить сирия  "
            ]
          },
          "metadata": {
            "tags": []
          },
          "execution_count": 25
        }
      ]
    },
    {
      "cell_type": "code",
      "metadata": {
        "id": "-8e7WUHBMI8t",
        "colab_type": "code",
        "colab": {}
      },
      "source": [
        "y = data['label'].values"
      ],
      "execution_count": 0,
      "outputs": []
    },
    {
      "cell_type": "markdown",
      "metadata": {
        "id": "JhKBIfLfFAdr",
        "colab_type": "text"
      },
      "source": [
        "### Создаем наш корпус"
      ]
    },
    {
      "cell_type": "code",
      "metadata": {
        "id": "f_oMQYVUC4gh",
        "colab_type": "code",
        "colab": {}
      },
      "source": [
        "corpus = open(os.path.join(os.getcwd(), 'drive', 'My Drive', 'corpus_hum.txt')).read().splitlines()\n",
        "\n",
        "corpus_norm = [normalize(text) for text in corpus] "
      ],
      "execution_count": 0,
      "outputs": []
    },
    {
      "cell_type": "code",
      "metadata": {
        "id": "Hy1VqX11FTDy",
        "colab_type": "code",
        "colab": {}
      },
      "source": [
        "corpus_norm = [text for text in corpus_norm if text]"
      ],
      "execution_count": 0,
      "outputs": []
    },
    {
      "cell_type": "markdown",
      "metadata": {
        "id": "yHatLe9-Glfw",
        "colab_type": "text"
      },
      "source": [
        "### Обучим w2v на наш корпус"
      ]
    },
    {
      "cell_type": "code",
      "metadata": {
        "id": "ttQ86RksFVmc",
        "colab_type": "code",
        "colab": {}
      },
      "source": [
        "w2v = gensim.models.Word2Vec([text.split() for text in corpus_norm], size=50, sg=1)"
      ],
      "execution_count": 0,
      "outputs": []
    },
    {
      "cell_type": "code",
      "metadata": {
        "id": "tPpV0TSHHBcG",
        "colab_type": "code",
        "colab": {
          "base_uri": "https://localhost:8080/",
          "height": 275
        },
        "outputId": "886c2bb4-2086-44b2-9d57-1d886cdd474f"
      },
      "source": [
        "w2v.most_similar('язык')"
      ],
      "execution_count": 18,
      "outputs": [
        {
          "output_type": "stream",
          "text": [
            "/usr/local/lib/python3.6/dist-packages/ipykernel_launcher.py:1: DeprecationWarning: Call to deprecated `most_similar` (Method will be removed in 4.0.0, use self.wv.most_similar() instead).\n",
            "  \"\"\"Entry point for launching an IPython kernel.\n",
            "/usr/local/lib/python3.6/dist-packages/gensim/matutils.py:737: FutureWarning: Conversion of the second argument of issubdtype from `int` to `np.signedinteger` is deprecated. In future, it will be treated as `np.int64 == np.dtype(int).type`.\n",
            "  if np.issubdtype(vec.dtype, np.int):\n"
          ],
          "name": "stderr"
        },
        {
          "output_type": "execute_result",
          "data": {
            "text/plain": [
              "[('древнееврейский', 0.8238615989685059),\n",
              " ('латынь', 0.8062160611152649),\n",
              " ('фарси', 0.7985751628875732),\n",
              " ('иврит', 0.7945111989974976),\n",
              " ('церковно-славянский', 0.775028645992279),\n",
              " ('идиш', 0.7736895680427551),\n",
              " ('по-арабски', 0.7705888152122498),\n",
              " ('латинский', 0.7492571473121643),\n",
              " ('двуязычный', 0.7450699806213379),\n",
              " ('транслитерация', 0.7412364482879639)]"
            ]
          },
          "metadata": {
            "tags": []
          },
          "execution_count": 18
        }
      ]
    },
    {
      "cell_type": "markdown",
      "metadata": {
        "id": "DD2_zSV7H_uj",
        "colab_type": "text"
      },
      "source": [
        "### Берем предобученную модель tayga-func_upos_skipgram_300_5_2019"
      ]
    },
    {
      "cell_type": "code",
      "metadata": {
        "id": "FcehlJPdInzy",
        "colab_type": "code",
        "colab": {}
      },
      "source": [
        "# with zipfile.ZipFile(os.path.join(os.getcwd(), 'drive', 'My Drive', 'taiga_model.zip'), 'r') as zip_ref:\n",
        "#     zip_ref.extractall(os.path.join(os.getcwd(), 'drive', 'My Drive'))"
      ],
      "execution_count": 0,
      "outputs": []
    },
    {
      "cell_type": "code",
      "metadata": {
        "id": "1udVQASWHcl6",
        "colab_type": "code",
        "colab": {}
      },
      "source": [
        "# os.listdir(os.path.join(os.getcwd(), 'drive', 'My Drive'))"
      ],
      "execution_count": 0,
      "outputs": []
    },
    {
      "cell_type": "code",
      "metadata": {
        "id": "eWAcJI6jJhXX",
        "colab_type": "code",
        "colab": {
          "base_uri": "https://localhost:8080/",
          "height": 71
        },
        "outputId": "9e30755d-2167-4af8-ca3c-c60d179fa15e"
      },
      "source": [
        "# taiga = gensim.models.KeyedVectors.load_word2vec_format(os.path.join(os.getcwd(), 'drive', 'My Drive', 'model.bin'), binary=True)"
      ],
      "execution_count": 33,
      "outputs": [
        {
          "output_type": "stream",
          "text": [
            "/usr/local/lib/python3.6/dist-packages/smart_open/smart_open_lib.py:402: UserWarning: This function is deprecated, use smart_open.open instead. See the migration notes for details: https://github.com/RaRe-Technologies/smart_open/blob/master/README.rst#migrating-to-the-new-open-function\n",
            "  'See the migration notes for details: %s' % _MIGRATION_NOTES_URL\n"
          ],
          "name": "stderr"
        }
      ]
    },
    {
      "cell_type": "code",
      "metadata": {
        "id": "Eg_UAv-tKLuI",
        "colab_type": "code",
        "colab": {
          "base_uri": "https://localhost:8080/",
          "height": 241
        },
        "outputId": "6b8d7712-5116-468b-c6b7-fbbf790a4823"
      },
      "source": [
        "taiga.most_similar('февраль_NOUN')"
      ],
      "execution_count": 35,
      "outputs": [
        {
          "output_type": "stream",
          "text": [
            "/usr/local/lib/python3.6/dist-packages/gensim/matutils.py:737: FutureWarning: Conversion of the second argument of issubdtype from `int` to `np.signedinteger` is deprecated. In future, it will be treated as `np.int64 == np.dtype(int).type`.\n",
            "  if np.issubdtype(vec.dtype, np.int):\n"
          ],
          "name": "stderr"
        },
        {
          "output_type": "execute_result",
          "data": {
            "text/plain": [
              "[('ноябрь_NOUN', 0.9718526601791382),\n",
              " ('декабрь_NOUN', 0.9698548316955566),\n",
              " ('октябрь_NOUN', 0.9665497541427612),\n",
              " ('март_NOUN', 0.9644964933395386),\n",
              " ('январь_NOUN', 0.9629086256027222),\n",
              " ('апрель_NOUN', 0.9617109298706055),\n",
              " ('июль_NOUN', 0.9445033073425293),\n",
              " ('август_NOUN', 0.93914395570755),\n",
              " ('июнь_NOUN', 0.9278451204299927),\n",
              " ('сентябрь_NOUN', 0.9265590906143188)]"
            ]
          },
          "metadata": {
            "tags": []
          },
          "execution_count": 35
        }
      ]
    },
    {
      "cell_type": "markdown",
      "metadata": {
        "id": "DhfArRzJJ9Bd",
        "colab_type": "text"
      },
      "source": [
        "### Преобразуем наши данные из перефразования в вектора"
      ]
    },
    {
      "cell_type": "code",
      "metadata": {
        "id": "t_EAjh9FJ8Hq",
        "colab_type": "code",
        "colab": {}
      },
      "source": [
        "def get_embedding(text, model, dim):\n",
        "    text = text.split()\n",
        "    \n",
        "    # чтобы не доставать одно слово несколько раз\n",
        "    # сделаем счетчик, а потом векторы домножим на частоту\n",
        "    words = Counter(text)\n",
        "    total = len(text)\n",
        "    vectors = np.zeros((len(words), dim))\n",
        "    \n",
        "    for i,word in enumerate(words):\n",
        "        try:\n",
        "            v = model[word]\n",
        "            vectors[i] = v*(words[word]/total) # просто умножаем вектор на частоту\n",
        "        except (KeyError, ValueError):\n",
        "            continue\n",
        "    \n",
        "    if vectors.any():\n",
        "        vector = np.average(vectors, axis=0)\n",
        "    else:\n",
        "        vector = np.zeros((dim))\n",
        "    \n",
        "    return vector"
      ],
      "execution_count": 0,
      "outputs": []
    },
    {
      "cell_type": "markdown",
      "metadata": {
        "id": "xx2WyOf7Ku0G",
        "colab_type": "text"
      },
      "source": [
        "#### Преобразование с помощью w2v"
      ]
    },
    {
      "cell_type": "code",
      "metadata": {
        "id": "mPoS_SadKt9U",
        "colab_type": "code",
        "colab": {
          "base_uri": "https://localhost:8080/",
          "height": 71
        },
        "outputId": "e28d00f9-c377-409d-dcf4-89cc6f39dbda"
      },
      "source": [
        "dim = 50\n",
        "X_text_1_w2v = np.zeros((len(data['text_1_n']), dim))\n",
        "X_text_2_w2v = np.zeros((len(data['text_2_n']), dim))\n",
        "\n",
        "for i, text in enumerate(data['text_1_n'].values):\n",
        "    X_text_1_w2v[i] = get_embedding(text, w2v, dim)\n",
        "    \n",
        "for i, text in enumerate(data['text_2_n'].values):\n",
        "    X_text_2_w2v[i] = get_embedding(text, w2v, dim)"
      ],
      "execution_count": 27,
      "outputs": [
        {
          "output_type": "stream",
          "text": [
            "/usr/local/lib/python3.6/dist-packages/ipykernel_launcher.py:12: DeprecationWarning: Call to deprecated `__getitem__` (Method will be removed in 4.0.0, use self.wv.__getitem__() instead).\n",
            "  if sys.path[0] == '':\n"
          ],
          "name": "stderr"
        }
      ]
    },
    {
      "cell_type": "code",
      "metadata": {
        "id": "bw53DEzKK5r4",
        "colab_type": "code",
        "colab": {}
      },
      "source": [
        "X_text_w2v = np.concatenate([X_text_1_w2v, X_text_2_w2v], axis=1)"
      ],
      "execution_count": 0,
      "outputs": []
    },
    {
      "cell_type": "code",
      "metadata": {
        "id": "0RcRomxGLVhv",
        "colab_type": "code",
        "colab": {
          "base_uri": "https://localhost:8080/",
          "height": 34
        },
        "outputId": "65f1e014-270e-4785-aa52-e56d470d1246"
      },
      "source": [
        "clf = RandomForestClassifier(n_estimators=100, max_depth=7, min_samples_leaf=15,\n",
        "                             class_weight='balanced')\n",
        "\n",
        "print(cross_val_score(clf, X_text_w2v, y, scoring='f1_micro', cv=5))"
      ],
      "execution_count": 29,
      "outputs": [
        {
          "output_type": "stream",
          "text": [
            "[0.45089903 0.49377593 0.48927336 0.40207612 0.36885813]\n"
          ],
          "name": "stdout"
        }
      ]
    },
    {
      "cell_type": "code",
      "metadata": {
        "id": "7SoaOJdMH1pu",
        "colab_type": "code",
        "colab": {
          "base_uri": "https://localhost:8080/",
          "height": 34
        },
        "outputId": "71fa163f-f8be-4e9c-8c8a-43e7781f97ac"
      },
      "source": [
        "clf_lr = LogisticRegression(C=1000, class_weight='balanced')\n",
        "X_scaled = preprocessing.scale(X_text_w2v)\n",
        "print(cross_val_score(clf_lr, X_scaled, y, scoring='f1_micro', cv=5))"
      ],
      "execution_count": 31,
      "outputs": [
        {
          "output_type": "stream",
          "text": [
            "[0.39349931 0.42254495 0.42076125 0.37647059 0.39238754]\n"
          ],
          "name": "stdout"
        }
      ]
    },
    {
      "cell_type": "markdown",
      "metadata": {
        "id": "Xj1gYQIHLXux",
        "colab_type": "text"
      },
      "source": [
        "#### Преобразование с помощью модель taiga"
      ]
    },
    {
      "cell_type": "code",
      "metadata": {
        "id": "PKAHk2tSbVD3",
        "colab_type": "code",
        "colab": {}
      },
      "source": [
        "dim = 50\n",
        "X_text_1_tg = np.zeros((len(data['text_1_norm']), dim))\n",
        "X_text_2_tg = np.zeros((len(data['text_2_norm']), dim))\n",
        "\n",
        "for i, text in enumerate(data['text_1_norm'].values):\n",
        "    X_text_1_w2v[i] = get_embedding(text, taiga, dim)\n",
        "    \n",
        "for i, text in enumerate(data['text_2_norm'].values):\n",
        "    X_text_2_w2v[i] = get_embedding(text, taiga, dim)"
      ],
      "execution_count": 0,
      "outputs": []
    },
    {
      "cell_type": "code",
      "metadata": {
        "id": "9A-Sk--PLePp",
        "colab_type": "code",
        "colab": {}
      },
      "source": [
        "X_text_tg = np.concatenate([X_text_1_tg, X_text_2_tg], axis=1)"
      ],
      "execution_count": 0,
      "outputs": []
    },
    {
      "cell_type": "code",
      "metadata": {
        "id": "uL-GH1EIT34t",
        "colab_type": "code",
        "colab": {
          "base_uri": "https://localhost:8080/",
          "height": 34
        },
        "outputId": "491b4da0-2ad8-4714-9984-77075fd6d631"
      },
      "source": [
        "clf = RandomForestClassifier(n_estimators=100, max_depth=7, min_samples_leaf=15,\n",
        "                             class_weight='balanced')\n",
        "print(cross_val_score(clf, X_text_tg, y, scoring='f1_micro', cv=5))"
      ],
      "execution_count": 50,
      "outputs": [
        {
          "output_type": "stream",
          "text": [
            "[0.35684647 0.40940526 0.23321799 0.35778547 0.35709343]\n"
          ],
          "name": "stdout"
        }
      ]
    },
    {
      "cell_type": "code",
      "metadata": {
        "id": "6vrHnoySCc5u",
        "colab_type": "code",
        "colab": {
          "base_uri": "https://localhost:8080/",
          "height": 34
        },
        "outputId": "cd4a3882-c8ed-4306-f453-53ec9b05416f"
      },
      "source": [
        "clf_lr = LogisticRegression(C=1000, class_weight='balanced')\n",
        "X_scaled = preprocessing.scale(X_text_tg)\n",
        "print(cross_val_score(clf_lr, X_scaled, y, scoring='f1_micro', cv=5))"
      ],
      "execution_count": 51,
      "outputs": [
        {
          "output_type": "stream",
          "text": [
            "[0.35684647 0.35684647 0.35778547 0.35778547 0.35709343]\n"
          ],
          "name": "stdout"
        }
      ]
    },
    {
      "cell_type": "markdown",
      "metadata": {
        "id": "gMoJE_7uNqSt",
        "colab_type": "text"
      },
      "source": [
        "### Задача 2\n",
        "2) Преобразуйте тексты в векторы в каждой паре 5 методами  - SVD, NMF, Word2Vec (свой и  русвекторовский), Fastext. У вас должно получиться 5 пар векторов для каждой строчки в датасете. Между векторами каждой пары вычислите косинусную близость (получится 5 чисел для каждой пары). \n",
        "\n",
        "Постройте обучающую выборку из этих близостей . Обучите любую модель (Логрег, Рандом форест или что-то ещё) на этой выборке и оцените качество на кросс-валидации (используйте микросреднюю f1-меру). Попробуйте улучить метрику изменив параметры в методах векторизации.\n",
        "\n",
        "SVD и NMF применяйте к данным напрямую, а w2w и fastext обучите на отдельном корпусе (как в первой части). "
      ]
    },
    {
      "cell_type": "markdown",
      "metadata": {
        "id": "a3oP4yrNOv8e",
        "colab_type": "text"
      },
      "source": [
        "### Обучение fastText"
      ]
    },
    {
      "cell_type": "code",
      "metadata": {
        "id": "YyfvUjAtNuKe",
        "colab_type": "code",
        "colab": {}
      },
      "source": [
        "fast_text = gensim.models.FastText([text.split() for text in corpus_norm], size=50, min_n=4, max_n=8) "
      ],
      "execution_count": 0,
      "outputs": []
    },
    {
      "cell_type": "code",
      "metadata": {
        "id": "F6qUKfCOPD6r",
        "colab_type": "code",
        "colab": {
          "base_uri": "https://localhost:8080/",
          "height": 275
        },
        "outputId": "b3ea6eb4-a2cf-4c91-efa1-c75bebf528f8"
      },
      "source": [
        "fast_text.most_similar('язык')"
      ],
      "execution_count": 53,
      "outputs": [
        {
          "output_type": "stream",
          "text": [
            "/usr/local/lib/python3.6/dist-packages/ipykernel_launcher.py:1: DeprecationWarning: Call to deprecated `most_similar` (Method will be removed in 4.0.0, use self.wv.most_similar() instead).\n",
            "  \"\"\"Entry point for launching an IPython kernel.\n",
            "/usr/local/lib/python3.6/dist-packages/gensim/matutils.py:737: FutureWarning: Conversion of the second argument of issubdtype from `int` to `np.signedinteger` is deprecated. In future, it will be treated as `np.int64 == np.dtype(int).type`.\n",
            "  if np.issubdtype(vec.dtype, np.int):\n"
          ],
          "name": "stderr"
        },
        {
          "output_type": "execute_result",
          "data": {
            "text/plain": [
              "[('н.м.язык', 0.9943525195121765),\n",
              " ('праязык', 0.9461914300918579),\n",
              " ('подъязык', 0.9186094999313354),\n",
              " ('язык-предок', 0.8882485032081604),\n",
              " ('языкова', 0.8626261353492737),\n",
              " ('язык-цель', 0.8466439843177795),\n",
              " ('метаязык', 0.8370060920715332),\n",
              " ('протоязык', 0.8064162135124207),\n",
              " ('языковед', 0.7832568287849426),\n",
              " ('диалектолог', 0.7538113594055176)]"
            ]
          },
          "metadata": {
            "tags": []
          },
          "execution_count": 53
        }
      ]
    },
    {
      "cell_type": "code",
      "metadata": {
        "id": "9qTLvgJjcze9",
        "colab_type": "code",
        "colab": {
          "base_uri": "https://localhost:8080/",
          "height": 136
        },
        "outputId": "373fe5e3-42a1-4cc0-abf2-8682a13e0cf9"
      },
      "source": [
        "tfidf = TfidfVectorizer(min_df=3, max_df=0.4, max_features=1000)\n",
        "tfidf.fit(pd.concat([data['text_1_norm'], data['text_2_norm']]))"
      ],
      "execution_count": 54,
      "outputs": [
        {
          "output_type": "execute_result",
          "data": {
            "text/plain": [
              "TfidfVectorizer(analyzer='word', binary=False, decode_error='strict',\n",
              "                dtype=<class 'numpy.float64'>, encoding='utf-8',\n",
              "                input='content', lowercase=True, max_df=0.4, max_features=1000,\n",
              "                min_df=3, ngram_range=(1, 1), norm='l2', preprocessor=None,\n",
              "                smooth_idf=True, stop_words=None, strip_accents=None,\n",
              "                sublinear_tf=False, token_pattern='(?u)\\\\b\\\\w\\\\w+\\\\b',\n",
              "                tokenizer=None, use_idf=True, vocabulary=None)"
            ]
          },
          "metadata": {
            "tags": []
          },
          "execution_count": 54
        }
      ]
    },
    {
      "cell_type": "code",
      "metadata": {
        "id": "EBiRjU2peN0x",
        "colab_type": "code",
        "colab": {}
      },
      "source": [
        "X_text_norm = np.concatenate([data['text_1_n'], data['text_2_n']])"
      ],
      "execution_count": 0,
      "outputs": []
    },
    {
      "cell_type": "code",
      "metadata": {
        "id": "l4Nk2E_BeMdy",
        "colab_type": "code",
        "colab": {}
      },
      "source": [
        "cv = CountVectorizer(min_df=3, max_df=0.4, max_features=1000)\n",
        "X = cv.fit_transform(X_text_norm)"
      ],
      "execution_count": 0,
      "outputs": []
    },
    {
      "cell_type": "markdown",
      "metadata": {
        "id": "HoAexfX2PgFL",
        "colab_type": "text"
      },
      "source": [
        "#### Модель SVD"
      ]
    },
    {
      "cell_type": "code",
      "metadata": {
        "id": "lCJvlvIBdaD2",
        "colab_type": "code",
        "colab": {
          "base_uri": "https://localhost:8080/",
          "height": 51
        },
        "outputId": "b33ad420-2d00-4c7f-baa2-5cdc3b5dc737"
      },
      "source": [
        "svd = TruncatedSVD(50)\n",
        "svd.fit(X)"
      ],
      "execution_count": 66,
      "outputs": [
        {
          "output_type": "execute_result",
          "data": {
            "text/plain": [
              "TruncatedSVD(algorithm='randomized', n_components=50, n_iter=5,\n",
              "             random_state=None, tol=0.0)"
            ]
          },
          "metadata": {
            "tags": []
          },
          "execution_count": 66
        }
      ]
    },
    {
      "cell_type": "code",
      "metadata": {
        "id": "xlnSHLOUPiW7",
        "colab_type": "code",
        "colab": {}
      },
      "source": [
        "X_text_1_svd = svd.fit_transform(tfidf.transform(data['text_1_n']))\n",
        "X_text_2_svd = svd.fit_transform(tfidf.transform(data['text_2_n']))\n",
        "\n",
        "X_text_svd = np.concatenate([X_text_1_svd, X_text_2_svd], axis=1)"
      ],
      "execution_count": 0,
      "outputs": []
    },
    {
      "cell_type": "markdown",
      "metadata": {
        "id": "NTGzmBX9PxoF",
        "colab_type": "text"
      },
      "source": [
        "#### Модель NMF"
      ]
    },
    {
      "cell_type": "code",
      "metadata": {
        "id": "mS3Vk0LEdVKg",
        "colab_type": "code",
        "colab": {
          "base_uri": "https://localhost:8080/",
          "height": 68
        },
        "outputId": "45988590-4319-4160-cded-d17e4d3ca332"
      },
      "source": [
        "nmf = NMF(50)\n",
        "nmf.fit(X)"
      ],
      "execution_count": 68,
      "outputs": [
        {
          "output_type": "execute_result",
          "data": {
            "text/plain": [
              "NMF(alpha=0.0, beta_loss='frobenius', init=None, l1_ratio=0.0, max_iter=200,\n",
              "    n_components=50, random_state=None, shuffle=False, solver='cd', tol=0.0001,\n",
              "    verbose=0)"
            ]
          },
          "metadata": {
            "tags": []
          },
          "execution_count": 68
        }
      ]
    },
    {
      "cell_type": "code",
      "metadata": {
        "id": "yFTUlKUTPxBk",
        "colab_type": "code",
        "colab": {}
      },
      "source": [
        "X_text_1_nmf = nmf.transform(tfidf.transform(data['text_1_n']))\n",
        "X_text_2_nmf = nmf.transform(tfidf.transform(data['text_2_n']))\n",
        "\n",
        "X_text_nmf = np.concatenate([X_text_1_nmf, X_text_2_nmf], axis=1)"
      ],
      "execution_count": 0,
      "outputs": []
    },
    {
      "cell_type": "markdown",
      "metadata": {
        "id": "YOZekQfRQHtQ",
        "colab_type": "text"
      },
      "source": [
        "#### Модель fastText"
      ]
    },
    {
      "cell_type": "code",
      "metadata": {
        "id": "ltmbXmqQQL9H",
        "colab_type": "code",
        "colab": {
          "base_uri": "https://localhost:8080/",
          "height": 71
        },
        "outputId": "a2c280da-54c8-4c07-a292-a7bd13cef018"
      },
      "source": [
        "dim = 50\n",
        "data['text_1_notnorm'] = data['text_1'].apply(tokenize)\n",
        "data['text_2_notnorm'] = data['text_2'].apply(tokenize)\n",
        "\n",
        "X_text_1_ft = np.zeros((len(data['text_1_notnorm']), dim))\n",
        "X_text_2_ft = np.zeros((len(data['text_2_notnorm']), dim))\n",
        "\n",
        "for i, text in enumerate(data['text_1_notnorm'].values):\n",
        "    X_text_1_ft[i] = get_embedding(text, fast_text, dim)\n",
        "    \n",
        "for i, text in enumerate(data['text_2_notnorm'].values):\n",
        "    X_text_2_ft[i] = get_embedding(text, fast_text, dim)"
      ],
      "execution_count": 70,
      "outputs": [
        {
          "output_type": "stream",
          "text": [
            "/usr/local/lib/python3.6/dist-packages/ipykernel_launcher.py:12: DeprecationWarning: Call to deprecated `__getitem__` (Method will be removed in 4.0.0, use self.wv.__getitem__() instead).\n",
            "  if sys.path[0] == '':\n"
          ],
          "name": "stderr"
        }
      ]
    },
    {
      "cell_type": "code",
      "metadata": {
        "id": "PLDeP-BJQpdy",
        "colab_type": "code",
        "colab": {}
      },
      "source": [
        "X_text_ft = np.concatenate([X_text_1_ft, X_text_2_ft], axis=1)"
      ],
      "execution_count": 0,
      "outputs": []
    },
    {
      "cell_type": "markdown",
      "metadata": {
        "id": "WbiwxfvHXpg2",
        "colab_type": "text"
      },
      "source": [
        "### Вычисление косинусной близости"
      ]
    },
    {
      "cell_type": "code",
      "metadata": {
        "id": "6pJ1Qm4AZR7x",
        "colab_type": "code",
        "colab": {
          "base_uri": "https://localhost:8080/",
          "height": 34
        },
        "outputId": "ec20998c-59c7-4057-9948-910971a8758f"
      },
      "source": [
        "X_text_1_w2v.shape"
      ],
      "execution_count": 72,
      "outputs": [
        {
          "output_type": "execute_result",
          "data": {
            "text/plain": [
              "(7227, 50)"
            ]
          },
          "metadata": {
            "tags": []
          },
          "execution_count": 72
        }
      ]
    },
    {
      "cell_type": "code",
      "metadata": {
        "id": "0O-FsuL1Y_CQ",
        "colab_type": "code",
        "colab": {
          "base_uri": "https://localhost:8080/",
          "height": 34
        },
        "outputId": "8924ad91-a0cb-48b9-bef6-506ec7609d4c"
      },
      "source": [
        "X_text_w2v.shape"
      ],
      "execution_count": 73,
      "outputs": [
        {
          "output_type": "execute_result",
          "data": {
            "text/plain": [
              "(7227, 100)"
            ]
          },
          "metadata": {
            "tags": []
          },
          "execution_count": 73
        }
      ]
    },
    {
      "cell_type": "code",
      "metadata": {
        "id": "7R5Rg1C-YmkM",
        "colab_type": "code",
        "colab": {}
      },
      "source": [
        "# X_text_w2v[1]"
      ],
      "execution_count": 0,
      "outputs": []
    },
    {
      "cell_type": "code",
      "metadata": {
        "id": "Fcp3pOGiXtWS",
        "colab_type": "code",
        "colab": {
          "base_uri": "https://localhost:8080/",
          "height": 34
        },
        "outputId": "032e00e2-f1ec-423c-8ed0-6ec7e5a18050"
      },
      "source": [
        "cosine_distances(X_text_1_w2v[1].reshape(1, -1), X_text_2_w2v[1].reshape(1, -1))"
      ],
      "execution_count": 75,
      "outputs": [
        {
          "output_type": "execute_result",
          "data": {
            "text/plain": [
              "array([[1.]])"
            ]
          },
          "metadata": {
            "tags": []
          },
          "execution_count": 75
        }
      ]
    },
    {
      "cell_type": "code",
      "metadata": {
        "id": "xobA62mIbqYP",
        "colab_type": "code",
        "colab": {}
      },
      "source": [
        "def cos_similarity(matrix_1, matrix_2):\n",
        "  cos_sim_lst = []\n",
        "  matrix = np.concatenate([matrix_1, matrix_2], axis=1)\n",
        "  for i, _ in enumerate(matrix):\n",
        "    cos_sim = cosine_distances(matrix_1[i].reshape(1, -1), matrix_2[i].reshape(1, -1))\n",
        "    cos_sim_lst.append(cos_sim)\n",
        "  return cos_sim_lst"
      ],
      "execution_count": 0,
      "outputs": []
    },
    {
      "cell_type": "markdown",
      "metadata": {
        "id": "pLj2QdDKZ8UE",
        "colab_type": "text"
      },
      "source": [
        "##### Косинусная близость word2vec"
      ]
    },
    {
      "cell_type": "code",
      "metadata": {
        "id": "HwmNZAvzZkiO",
        "colab_type": "code",
        "colab": {}
      },
      "source": [
        "data['cos_sim_w2v'] = cos_similarity(X_text_1_w2v, X_text_2_w2v)"
      ],
      "execution_count": 0,
      "outputs": []
    },
    {
      "cell_type": "markdown",
      "metadata": {
        "id": "8SGKTJRDcq3O",
        "colab_type": "text"
      },
      "source": [
        "##### Косинусная близость taiga"
      ]
    },
    {
      "cell_type": "code",
      "metadata": {
        "id": "BQYJr2qWczP_",
        "colab_type": "code",
        "colab": {}
      },
      "source": [
        "data['cos_sim_taiga'] = cos_similarity(X_text_1_tg, X_text_2_tg)"
      ],
      "execution_count": 0,
      "outputs": []
    },
    {
      "cell_type": "markdown",
      "metadata": {
        "id": "3636RofIcq_I",
        "colab_type": "text"
      },
      "source": [
        "##### Косинусная близость fastText"
      ]
    },
    {
      "cell_type": "code",
      "metadata": {
        "id": "XKhJMvv2dEKu",
        "colab_type": "code",
        "colab": {}
      },
      "source": [
        "data['cos_sim_ft'] = cos_similarity(X_text_1_ft, X_text_2_ft)"
      ],
      "execution_count": 0,
      "outputs": []
    },
    {
      "cell_type": "markdown",
      "metadata": {
        "id": "0sH3wFAbcrLS",
        "colab_type": "text"
      },
      "source": [
        "##### Косинусная близость SVD"
      ]
    },
    {
      "cell_type": "code",
      "metadata": {
        "id": "PDrgr0EvdefW",
        "colab_type": "code",
        "colab": {}
      },
      "source": [
        "data['cos_sim_svd'] = cos_similarity(X_text_1_svd, X_text_2_svd)"
      ],
      "execution_count": 0,
      "outputs": []
    },
    {
      "cell_type": "markdown",
      "metadata": {
        "id": "L9nUMgREcrWW",
        "colab_type": "text"
      },
      "source": [
        "##### Косинусная близость NMF"
      ]
    },
    {
      "cell_type": "code",
      "metadata": {
        "id": "Q4WZRCbNdc7t",
        "colab_type": "code",
        "colab": {}
      },
      "source": [
        "data['cos_sim_nmf'] = cos_similarity(X_text_1_nmf, X_text_2_nmf)"
      ],
      "execution_count": 0,
      "outputs": []
    },
    {
      "cell_type": "code",
      "metadata": {
        "id": "j3gbzwCRfhEV",
        "colab_type": "code",
        "colab": {
          "base_uri": "https://localhost:8080/",
          "height": 1000
        },
        "outputId": "d557064c-325e-446b-97e5-08e2e1e59a01"
      },
      "source": [
        "data[:30]"
      ],
      "execution_count": 90,
      "outputs": [
        {
          "output_type": "execute_result",
          "data": {
            "text/html": [
              "<div>\n",
              "<style scoped>\n",
              "    .dataframe tbody tr th:only-of-type {\n",
              "        vertical-align: middle;\n",
              "    }\n",
              "\n",
              "    .dataframe tbody tr th {\n",
              "        vertical-align: top;\n",
              "    }\n",
              "\n",
              "    .dataframe thead th {\n",
              "        text-align: right;\n",
              "    }\n",
              "</style>\n",
              "<table border=\"1\" class=\"dataframe\">\n",
              "  <thead>\n",
              "    <tr style=\"text-align: right;\">\n",
              "      <th></th>\n",
              "      <th>label</th>\n",
              "      <th>text_1</th>\n",
              "      <th>text_2</th>\n",
              "      <th>text_1_norm</th>\n",
              "      <th>text_2_norm</th>\n",
              "      <th>text_1_n</th>\n",
              "      <th>text_2_n</th>\n",
              "      <th>text_1_notnorm</th>\n",
              "      <th>text_2_notnorm</th>\n",
              "      <th>cos_sim_w2v</th>\n",
              "      <th>cos_sim_taiga</th>\n",
              "      <th>cos_sim_ft</th>\n",
              "      <th>cos_sim_svd</th>\n",
              "      <th>cos_sim_nmf</th>\n",
              "    </tr>\n",
              "  </thead>\n",
              "  <tbody>\n",
              "    <tr>\n",
              "      <th>0</th>\n",
              "      <td>0</td>\n",
              "      <td>Полицейским разрешат стрелять на поражение по ...</td>\n",
              "      <td>Полиции могут разрешить стрелять по хулиганам ...</td>\n",
              "      <td>полицейский_NOUN разрешать_VERB стрелять_VERB ...</td>\n",
              "      <td>полиция_NOUN мочь_VERB разрешать_VERB стрелять...</td>\n",
              "      <td>полицейский разрешить стрелять поражение гражд...</td>\n",
              "      <td>полиция мочь разрешить стрелять хулиган травма...</td>\n",
              "      <td>полицейским разрешат стрелять на поражение по ...</td>\n",
              "      <td>полиции могут разрешить стрелять по хулиганам ...</td>\n",
              "      <td>[[1.0]]</td>\n",
              "      <td>[[1.0]]</td>\n",
              "      <td>[[0.23127745300379465]]</td>\n",
              "      <td>[[1.5167255366574488]]</td>\n",
              "      <td>[[1.0]]</td>\n",
              "    </tr>\n",
              "    <tr>\n",
              "      <th>1</th>\n",
              "      <td>0</td>\n",
              "      <td>Право полицейских на проникновение в жилище ре...</td>\n",
              "      <td>Правила внесудебного проникновения полицейских...</td>\n",
              "      <td>право_ADV полицейский_NOUN на_ADP проникновени...</td>\n",
              "      <td>правило_NOUN внесудебный_ADJ проникновение_NOU...</td>\n",
              "      <td>право полицейский проникновение жилища решить ...</td>\n",
              "      <td>правило внесудебный проникновение полицейский ...</td>\n",
              "      <td>право полицейских на проникновение в жилище ре...</td>\n",
              "      <td>правила внесудебного проникновения полицейских...</td>\n",
              "      <td>[[1.0]]</td>\n",
              "      <td>[[1.0]]</td>\n",
              "      <td>[[0.21128477999455342]]</td>\n",
              "      <td>[[1.2796345871528942]]</td>\n",
              "      <td>[[1.0]]</td>\n",
              "    </tr>\n",
              "    <tr>\n",
              "      <th>2</th>\n",
              "      <td>0</td>\n",
              "      <td>Президент Египта ввел чрезвычайное положение в...</td>\n",
              "      <td>Власти Египта угрожают ввести в стране чрезвыч...</td>\n",
              "      <td>президент_NOUN египет_NOUN вводить_VERB чрезвы...</td>\n",
              "      <td>власть_NOUN египет_NOUN угрожать_VERB вводить_...</td>\n",
              "      <td>президент египет ввести чрезвычайный положение...</td>\n",
              "      <td>власть египет угрожать ввести страна чрезвычай...</td>\n",
              "      <td>президент египта ввел чрезвычайное положение в...</td>\n",
              "      <td>власти египта угрожают ввести в стране чрезвыч...</td>\n",
              "      <td>[[1.0]]</td>\n",
              "      <td>[[1.0]]</td>\n",
              "      <td>[[0.4057655013449778]]</td>\n",
              "      <td>[[1.9335628681107064]]</td>\n",
              "      <td>[[1.0]]</td>\n",
              "    </tr>\n",
              "    <tr>\n",
              "      <th>3</th>\n",
              "      <td>-1</td>\n",
              "      <td>Вернувшихся из Сирии россиян волнует вопрос тр...</td>\n",
              "      <td>Самолеты МЧС вывезут россиян из разрушенной Си...</td>\n",
              "      <td>вернуться_VERB из_ADP сирия_NOUN россиянин_NOU...</td>\n",
              "      <td>самолет_NOUN мчс_NOUN вывозить_VERB россиянин_...</td>\n",
              "      <td>вернуться сирия россиянин волновать вопрос тру...</td>\n",
              "      <td>самолёт мчс вывезти россиянин разрушить сирия</td>\n",
              "      <td>вернувшихся из сирии россиян волнует вопрос тр...</td>\n",
              "      <td>самолеты мчс вывезут россиян из разрушенной сирии</td>\n",
              "      <td>[[1.0]]</td>\n",
              "      <td>[[1.0]]</td>\n",
              "      <td>[[0.5623136002783127]]</td>\n",
              "      <td>[[1.0583921397083726]]</td>\n",
              "      <td>[[1.0]]</td>\n",
              "    </tr>\n",
              "    <tr>\n",
              "      <th>4</th>\n",
              "      <td>0</td>\n",
              "      <td>В Москву из Сирии вернулись 2 самолета МЧС с р...</td>\n",
              "      <td>Самолеты МЧС вывезут россиян из разрушенной Си...</td>\n",
              "      <td>в_ADP москва_NOUN из_ADP сирия_NOUN вернуться_...</td>\n",
              "      <td>самолет_NOUN мчс_NOUN вывозить_VERB россиянин_...</td>\n",
              "      <td>москва сирия вернуться 2 самолёт мчс россиянин...</td>\n",
              "      <td>самолёт мчс вывезти россиянин разрушить сирия</td>\n",
              "      <td>в москву из сирии вернулись 2 самолета мчс с р...</td>\n",
              "      <td>самолеты мчс вывезут россиян из разрушенной сирии</td>\n",
              "      <td>[[1.0]]</td>\n",
              "      <td>[[1.0]]</td>\n",
              "      <td>[[0.5648112352713865]]</td>\n",
              "      <td>[[1.6521676258562137]]</td>\n",
              "      <td>[[1.0]]</td>\n",
              "    </tr>\n",
              "    <tr>\n",
              "      <th>5</th>\n",
              "      <td>1</td>\n",
              "      <td>Приставы соберут отпечатки пальцев российских ...</td>\n",
              "      <td>Приставы снимут отпечатки пальцев у злостных н...</td>\n",
              "      <td>пристав_NOUN собирать_VERB отпечаток_NOUN пале...</td>\n",
              "      <td>пристав_NOUN снимать_VERB отпечаток_NOUN палец...</td>\n",
              "      <td>пристав собрать отпечаток палец российский дол...</td>\n",
              "      <td>пристав снять отпечаток палец злостный неплате...</td>\n",
              "      <td>приставы соберут отпечатки пальцев российских ...</td>\n",
              "      <td>приставы снимут отпечатки пальцев у злостных н...</td>\n",
              "      <td>[[1.0]]</td>\n",
              "      <td>[[1.0]]</td>\n",
              "      <td>[[0.2761561967552667]]</td>\n",
              "      <td>[[1.2409248206942942]]</td>\n",
              "      <td>[[1.0]]</td>\n",
              "    </tr>\n",
              "    <tr>\n",
              "      <th>6</th>\n",
              "      <td>-1</td>\n",
              "      <td>На саратовского дебошира с борта самолета Моск...</td>\n",
              "      <td>Саратовский дебошир отказывается возвращаться ...</td>\n",
              "      <td>на_ADP саратовский_ADJ дебошир_NOUN с_ADP борт...</td>\n",
              "      <td>саратовский_ADJ дебошир_NOUN отказываться_VERB...</td>\n",
              "      <td>саратовский дебошир борт самолёт москва хургад...</td>\n",
              "      <td>саратовский дебошир отказываться возвращаться ...</td>\n",
              "      <td>на саратовского дебошира с борта самолета моск...</td>\n",
              "      <td>саратовский дебошир отказывается возвращаться ...</td>\n",
              "      <td>[[1.0]]</td>\n",
              "      <td>[[1.0]]</td>\n",
              "      <td>[[0.5540815127930185]]</td>\n",
              "      <td>[[0.5132558063611543]]</td>\n",
              "      <td>[[1.0]]</td>\n",
              "    </tr>\n",
              "    <tr>\n",
              "      <th>7</th>\n",
              "      <td>0</td>\n",
              "      <td>ЦИК хочет отказаться от электронной системы по...</td>\n",
              "      <td>ЦИК может отказаться от электронных средств по...</td>\n",
              "      <td>цик_NOUN хотеть_VERB отказываться_VERB от_ADP ...</td>\n",
              "      <td>цик_NOUN мочь_VERB отказываться_VERB от_ADP эл...</td>\n",
              "      <td>цик хотеть отказаться электронный система подс...</td>\n",
              "      <td>цик отказаться электронный средство подсчёт голос</td>\n",
              "      <td>цик хочет отказаться от электронной системы по...</td>\n",
              "      <td>цик может отказаться от электронных средств по...</td>\n",
              "      <td>[[1.0]]</td>\n",
              "      <td>[[1.0]]</td>\n",
              "      <td>[[0.09871484883111359]]</td>\n",
              "      <td>[[1.8652235219563569]]</td>\n",
              "      <td>[[1.0]]</td>\n",
              "    </tr>\n",
              "    <tr>\n",
              "      <th>8</th>\n",
              "      <td>-1</td>\n",
              "      <td>Суд Петербурга оставил на потом дело о гибели ...</td>\n",
              "      <td>Лондонский Гайд-парк - это не место для митинг...</td>\n",
              "      <td>суд_NOUN петербург_NOUN оставлять_VERB на_ADP ...</td>\n",
              "      <td>лондонский_ADJ гайд_NOUN парк_NOUN это_PART не...</td>\n",
              "      <td>суд петербург оставить дело гибель подросток п...</td>\n",
              "      <td>лондонский гайд-парк это место митинг прежде парк</td>\n",
              "      <td>суд петербурга оставил на потом дело о гибели ...</td>\n",
              "      <td>лондонский гайд-парк  это не место для митинго...</td>\n",
              "      <td>[[1.0]]</td>\n",
              "      <td>[[1.0]]</td>\n",
              "      <td>[[0.7484882028719091]]</td>\n",
              "      <td>[[1.0000000000000002]]</td>\n",
              "      <td>[[1.0]]</td>\n",
              "    </tr>\n",
              "    <tr>\n",
              "      <th>9</th>\n",
              "      <td>-1</td>\n",
              "      <td>Страны ОПЕК сократили добычу нефти на 1 млн ба...</td>\n",
              "      <td>Обама продлил полномочия НАСА по сотрудничеств...</td>\n",
              "      <td>страна_NOUN опек_NOUN сокращать_VERB добыча_NO...</td>\n",
              "      <td>обама_NOUN продлять_VERB полномочие_NOUN нас_N...</td>\n",
              "      <td>страна опека сократить добыча нефть 1 миллион ...</td>\n",
              "      <td>обама продлить полномочие наса сотрудничество ...</td>\n",
              "      <td>страны опек сократили добычу нефти на 1 млн ба...</td>\n",
              "      <td>обама продлил полномочия наса по сотрудничеств...</td>\n",
              "      <td>[[1.0]]</td>\n",
              "      <td>[[1.0]]</td>\n",
              "      <td>[[0.729540213114237]]</td>\n",
              "      <td>[[0.9999999998347713]]</td>\n",
              "      <td>[[1.0]]</td>\n",
              "    </tr>\n",
              "    <tr>\n",
              "      <th>10</th>\n",
              "      <td>1</td>\n",
              "      <td>Москвичи смогут забронировать в Интернете мест...</td>\n",
              "      <td>В Москве можно будет забронировать место на кл...</td>\n",
              "      <td>москвич_NOUN смочь_VERB забронировать_VERB в_A...</td>\n",
              "      <td>в_ADP москва_NOUN можно_ADV быть_VERB забронир...</td>\n",
              "      <td>москвич смочь забронировать интернет место кла...</td>\n",
              "      <td>москва забронировать место кладбище интернет</td>\n",
              "      <td>москвичи смогут забронировать в интернете мест...</td>\n",
              "      <td>в москве можно будет забронировать место на кл...</td>\n",
              "      <td>[[1.0]]</td>\n",
              "      <td>[[1.0]]</td>\n",
              "      <td>[[0.054444379163249734]]</td>\n",
              "      <td>[[0.971502743216417]]</td>\n",
              "      <td>[[1.0]]</td>\n",
              "    </tr>\n",
              "    <tr>\n",
              "      <th>11</th>\n",
              "      <td>-1</td>\n",
              "      <td>Въезд в центр Москвы автомобилям с двигателями...</td>\n",
              "      <td>Сборная России пробилась в плей-офф чемпионата...</td>\n",
              "      <td>въезд_NOUN в_ADP центр_NOUN москва_NOUN автомо...</td>\n",
              "      <td>сборная_NOUN россия_NOUN пробиваться_VERB в_AD...</td>\n",
              "      <td>въезд центр москва автомобиль двигатель евро-2...</td>\n",
              "      <td>сборная россия пробиться плей-офф чемпионат ми...</td>\n",
              "      <td>въезд в центр москвы автомобилям с двигателями...</td>\n",
              "      <td>сборная россии пробилась в плей-офф чемпионата...</td>\n",
              "      <td>[[1.0]]</td>\n",
              "      <td>[[1.0]]</td>\n",
              "      <td>[[0.4393663686562861]]</td>\n",
              "      <td>[[1.000000000000911]]</td>\n",
              "      <td>[[1.0]]</td>\n",
              "    </tr>\n",
              "    <tr>\n",
              "      <th>12</th>\n",
              "      <td>0</td>\n",
              "      <td>В Подмосковье произошел пожар на железной дороге.</td>\n",
              "      <td>В Подмосковье загорелись цистерны с бензином.</td>\n",
              "      <td>в_ADP подмосковье_NOUN происходить_VERB пожар_...</td>\n",
              "      <td>в_ADP подмосковье_NOUN загораться_VERB цистерн...</td>\n",
              "      <td>подмосковье произойти пожар железный дорога</td>\n",
              "      <td>подмосковье загореться цистерна бензин</td>\n",
              "      <td>в подмосковье произошел пожар на железной дороге</td>\n",
              "      <td>в подмосковье загорелись цистерны с бензином</td>\n",
              "      <td>[[1.0]]</td>\n",
              "      <td>[[1.0]]</td>\n",
              "      <td>[[0.5092811264635615]]</td>\n",
              "      <td>[[0.9999999999999999]]</td>\n",
              "      <td>[[1.0]]</td>\n",
              "    </tr>\n",
              "    <tr>\n",
              "      <th>13</th>\n",
              "      <td>1</td>\n",
              "      <td>Северокорейский лидер впервые за 19 лет поздра...</td>\n",
              "      <td>Лидер КНДР впервые за 19 лет поздравил согражд...</td>\n",
              "      <td>северокорейский_ADJ лидер_NOUN впервые_ADV за_...</td>\n",
              "      <td>лидер_NOUN кндр_NOUN впервые_ADV за_ADP год_NO...</td>\n",
              "      <td>северокорейский лидер впервые 19 год поздравит...</td>\n",
              "      <td>лидер кндр впервые 19 год поздравить сограждан...</td>\n",
              "      <td>северокорейский лидер впервые за 19 лет поздра...</td>\n",
              "      <td>лидер кндр впервые за 19 лет поздравил согражд...</td>\n",
              "      <td>[[1.0]]</td>\n",
              "      <td>[[1.0]]</td>\n",
              "      <td>[[0.008412530344235725]]</td>\n",
              "      <td>[[0.9228000909843639]]</td>\n",
              "      <td>[[1.0]]</td>\n",
              "    </tr>\n",
              "    <tr>\n",
              "      <th>14</th>\n",
              "      <td>1</td>\n",
              "      <td>Мужчина из Подмосковья случайно убил жену в Но...</td>\n",
              "      <td>Житель Подмосковья случайно убил жену на новог...</td>\n",
              "      <td>мужчина_NOUN из_ADP подмосковье_NOUN случайно_...</td>\n",
              "      <td>житель_NOUN подмосковье_NOUN случайно_ADV убив...</td>\n",
              "      <td>мужчина подмосковье случайно убить жена новый год</td>\n",
              "      <td>житель подмосковье случайно убить жена новогод...</td>\n",
              "      <td>мужчина из подмосковья случайно убил жену в но...</td>\n",
              "      <td>житель подмосковья случайно убил жену на новог...</td>\n",
              "      <td>[[1.0]]</td>\n",
              "      <td>[[1.0]]</td>\n",
              "      <td>[[0.4559098850923252]]</td>\n",
              "      <td>[[0.9999094803514756]]</td>\n",
              "      <td>[[1.0]]</td>\n",
              "    </tr>\n",
              "    <tr>\n",
              "      <th>15</th>\n",
              "      <td>0</td>\n",
              "      <td>Избежать \"фискального обрыва\": Сенат США подде...</td>\n",
              "      <td>Сенат США не допустит \"фискального обрыва\".</td>\n",
              "      <td>избегать_VERB фискальный_ADJ обрыв_NOUN сенат_...</td>\n",
              "      <td>сенат_NOUN сша_NOUN не_PART допускать_VERB фис...</td>\n",
              "      <td>избежать фискальный обрыв сенат сша поддержать...</td>\n",
              "      <td>сенат сша допустить фискальный обрыв</td>\n",
              "      <td>избежать фискального обрыва сенат сша поддержа...</td>\n",
              "      <td>сенат сша не допустит фискального обрыва</td>\n",
              "      <td>[[1.0]]</td>\n",
              "      <td>[[1.0]]</td>\n",
              "      <td>[[0.10982091977181696]]</td>\n",
              "      <td>[[1.0000000000000007]]</td>\n",
              "      <td>[[1.0]]</td>\n",
              "    </tr>\n",
              "    <tr>\n",
              "      <th>16</th>\n",
              "      <td>0</td>\n",
              "      <td>\"Фискальный обрыв\" в США временно предотвращен.</td>\n",
              "      <td>Сенат США не допустит \"фискального обрыва\".</td>\n",
              "      <td>фискальный_ADJ обрыв_NOUN в_ADP сша_NOUN време...</td>\n",
              "      <td>сенат_NOUN сша_NOUN не_PART допускать_VERB фис...</td>\n",
              "      <td>фискальный обрыв сша временно предотвратить</td>\n",
              "      <td>сенат сша допустить фискальный обрыв</td>\n",
              "      <td>фискальный обрыв в сша временно предотвращен</td>\n",
              "      <td>сенат сша не допустит фискального обрыва</td>\n",
              "      <td>[[1.0]]</td>\n",
              "      <td>[[1.0]]</td>\n",
              "      <td>[[0.1108937199272787]]</td>\n",
              "      <td>[[0.9999999999996999]]</td>\n",
              "      <td>[[1.0]]</td>\n",
              "    </tr>\n",
              "    <tr>\n",
              "      <th>17</th>\n",
              "      <td>1</td>\n",
              "      <td>Житель Украины расстрелял посетителей кафе.</td>\n",
              "      <td>На Украине мужчина через окно расстрелял посет...</td>\n",
              "      <td>житель_NOUN украина_NOUN расстреливать_VERB по...</td>\n",
              "      <td>на_ADP украина_NOUN мужчина_NOUN через_ADP окн...</td>\n",
              "      <td>житель украина расстрелять посетитель кафе</td>\n",
              "      <td>украина мужчина окно расстрелять посетитель кафе</td>\n",
              "      <td>житель украины расстрелял посетителей кафе</td>\n",
              "      <td>на украине мужчина через окно расстрелял посет...</td>\n",
              "      <td>[[1.0]]</td>\n",
              "      <td>[[1.0]]</td>\n",
              "      <td>[[0.3619871129672647]]</td>\n",
              "      <td>[[1.0161480534555645]]</td>\n",
              "      <td>[[1.0]]</td>\n",
              "    </tr>\n",
              "    <tr>\n",
              "      <th>18</th>\n",
              "      <td>0</td>\n",
              "      <td>В Кот-Д`Ивуаре десятки человек погибли в давке...</td>\n",
              "      <td>В давке у стадиона в Кот-д’Ивуаре погибли 60 ч...</td>\n",
              "      <td>в_ADP кот_NOUN д_NOUN ивуар_NOUN десяток_NOUN ...</td>\n",
              "      <td>в_ADP давка_NOUN у_ADP стадион_NOUN в_ADP кот_...</td>\n",
              "      <td>кот-д`ивуаре десятка человек погибнуть давка н...</td>\n",
              "      <td>давка стадион кот-д’ивуар погибнуть 60 человек</td>\n",
              "      <td>в кот-д`ивуаре десятки человек погибли в давке...</td>\n",
              "      <td>в давке у стадиона в кот-д’ивуаре погибли 60 ч...</td>\n",
              "      <td>[[1.0]]</td>\n",
              "      <td>[[1.0]]</td>\n",
              "      <td>[[0.0428946709697402]]</td>\n",
              "      <td>[[0.9999999999990229]]</td>\n",
              "      <td>[[1.0]]</td>\n",
              "    </tr>\n",
              "    <tr>\n",
              "      <th>19</th>\n",
              "      <td>0</td>\n",
              "      <td>В Абхазии отомстили за Деда Хасана.</td>\n",
              "      <td>В Абхазии убили врага Деда Хасана.</td>\n",
              "      <td>в_ADP абхазия_NOUN отомщать_VERB за_ADP дед_NO...</td>\n",
              "      <td>в_ADP абхазия_NOUN убивать_VERB враг_NOUN дед_...</td>\n",
              "      <td>абхазия отомстить дед хасан</td>\n",
              "      <td>абхазия убить враг дед хасан</td>\n",
              "      <td>в абхазии отомстили за деда хасана</td>\n",
              "      <td>в абхазии убили врага деда хасана</td>\n",
              "      <td>[[1.0]]</td>\n",
              "      <td>[[1.0]]</td>\n",
              "      <td>[[0.27591625126234365]]</td>\n",
              "      <td>[[0.9999999999999999]]</td>\n",
              "      <td>[[1.0]]</td>\n",
              "    </tr>\n",
              "    <tr>\n",
              "      <th>20</th>\n",
              "      <td>0</td>\n",
              "      <td>Чечня попросила националистов составить кодекс...</td>\n",
              "      <td>Националисты помогут Чечне составить кодекс по...</td>\n",
              "      <td>чечня_NOUN попросить_VERB националист_NOUN сос...</td>\n",
              "      <td>националист_NOUN помогать_VERB чечня_NOUN сост...</td>\n",
              "      <td>чечня попросить националист составить кодекс п...</td>\n",
              "      <td>националист помочь чечня составить кодекс пове...</td>\n",
              "      <td>чечня попросила националистов составить кодекс...</td>\n",
              "      <td>националисты помогут чечне составить кодекс по...</td>\n",
              "      <td>[[1.0]]</td>\n",
              "      <td>[[1.0]]</td>\n",
              "      <td>[[0.03582318204207802]]</td>\n",
              "      <td>[[0.9999436245754736]]</td>\n",
              "      <td>[[1.0]]</td>\n",
              "    </tr>\n",
              "    <tr>\n",
              "      <th>21</th>\n",
              "      <td>1</td>\n",
              "      <td>В новогоднюю ночь во Франции сожгли больше тыс...</td>\n",
              "      <td>В новогоднюю ночь во Франции сожгли 1193 автом...</td>\n",
              "      <td>в_ADP новогодний_ADJ ночь_NOUN во_ADP франция_...</td>\n",
              "      <td>в_ADP новогодний_ADJ ночь_NOUN во_ADP франция_...</td>\n",
              "      <td>новогодний ночь франция сжечь тысяча машина</td>\n",
              "      <td>новогодний ночь франция сжечь 1193 автомобиль</td>\n",
              "      <td>в новогоднюю ночь во франции сожгли больше тыс...</td>\n",
              "      <td>в новогоднюю ночь во франции сожгли 1193 автом...</td>\n",
              "      <td>[[1.0]]</td>\n",
              "      <td>[[1.0]]</td>\n",
              "      <td>[[0.29353049170749723]]</td>\n",
              "      <td>[[1.1255060397554386]]</td>\n",
              "      <td>[[1.0]]</td>\n",
              "    </tr>\n",
              "    <tr>\n",
              "      <th>22</th>\n",
              "      <td>1</td>\n",
              "      <td>В Анголе в давке во время церковной службы пог...</td>\n",
              "      <td>В ходе давки на церковной службе в Анголе поги...</td>\n",
              "      <td>в_ADP ангола_NOUN в_ADP давка_NOUN во_ADP врем...</td>\n",
              "      <td>в_ADP ход_NOUN давка_NOUN на_ADP церковный_ADJ...</td>\n",
              "      <td>ангола давка время церковный служба погибнуть ...</td>\n",
              "      <td>ход давка церковный служба ангола погибнуть 10...</td>\n",
              "      <td>в анголе в давке во время церковной службы пог...</td>\n",
              "      <td>в ходе давки на церковной службе в анголе поги...</td>\n",
              "      <td>[[1.0]]</td>\n",
              "      <td>[[1.0]]</td>\n",
              "      <td>[[0.15222352645992365]]</td>\n",
              "      <td>[[1.0000000000000022]]</td>\n",
              "      <td>[[1.0]]</td>\n",
              "    </tr>\n",
              "    <tr>\n",
              "      <th>23</th>\n",
              "      <td>1</td>\n",
              "      <td>Morgan Stanley взял на работу бывшего зампреда...</td>\n",
              "      <td>Бывший глава ФСФР нашел работу в Morgan Stanley.</td>\n",
              "      <td>Morgan_X Stanley_X взять_VERB на_ADP работа_NO...</td>\n",
              "      <td>бывший_ADJ глава_NOUN ФСФР_X находить_VERB раб...</td>\n",
              "      <td>morgan stanley взять работа бывший зампред бан...</td>\n",
              "      <td>бывший глава фсфр найти работа morgan stanley</td>\n",
              "      <td>morgan stanley взял на работу бывшего зампреда...</td>\n",
              "      <td>бывший глава фсфр нашел работу в morgan stanley</td>\n",
              "      <td>[[1.0]]</td>\n",
              "      <td>[[1.0]]</td>\n",
              "      <td>[[0.4520341770730524]]</td>\n",
              "      <td>[[0.9989050271010983]]</td>\n",
              "      <td>[[1.0]]</td>\n",
              "    </tr>\n",
              "    <tr>\n",
              "      <th>24</th>\n",
              "      <td>1</td>\n",
              "      <td>Конгресс США утвердил план по предотвращению \"...</td>\n",
              "      <td>Палата представителей утвердила план предотвра...</td>\n",
              "      <td>конгресс_NOUN сша_NOUN утверждать_VERB план_NO...</td>\n",
              "      <td>палата_NOUN представитель_NOUN утверждать_VERB...</td>\n",
              "      <td>конгресс сша утвердить план предотвращение фис...</td>\n",
              "      <td>палата представитель утвердить план предотвращ...</td>\n",
              "      <td>конгресс сша утвердил план по предотвращению ф...</td>\n",
              "      <td>палата представителей утвердила план предотвра...</td>\n",
              "      <td>[[1.0]]</td>\n",
              "      <td>[[1.0]]</td>\n",
              "      <td>[[0.2908127765012487]]</td>\n",
              "      <td>[[0.9737393407890168]]</td>\n",
              "      <td>[[1.0]]</td>\n",
              "    </tr>\n",
              "    <tr>\n",
              "      <th>25</th>\n",
              "      <td>0</td>\n",
              "      <td>Счетная палата проверит Газпром на непрофильны...</td>\n",
              "      <td>Счетная палата проверит \"Газпром\" впервые за п...</td>\n",
              "      <td>счетный_ADJ палата_NOUN проверять_VERB газпром...</td>\n",
              "      <td>счетный_ADJ палата_NOUN проверять_VERB газпром...</td>\n",
              "      <td>счётный палата проверить газпром непрофильный ...</td>\n",
              "      <td>счётный палата проверить газпром впервые пять год</td>\n",
              "      <td>счетная палата проверит газпром на непрофильны...</td>\n",
              "      <td>счетная палата проверит газпром впервые за пят...</td>\n",
              "      <td>[[1.0]]</td>\n",
              "      <td>[[1.0]]</td>\n",
              "      <td>[[0.510407818225681]]</td>\n",
              "      <td>[[1.0000000001598652]]</td>\n",
              "      <td>[[1.0]]</td>\n",
              "    </tr>\n",
              "    <tr>\n",
              "      <th>26</th>\n",
              "      <td>1</td>\n",
              "      <td>Новые комиксы о пророке Мухаммеде появились во...</td>\n",
              "      <td>Во Франции издали комикс по мотивам жизни прор...</td>\n",
              "      <td>новый_ADJ комикс_NOUN о_ADP пророк_NOUN мухамм...</td>\n",
              "      <td>во_ADP франция_NOUN издали_ADV комикс_NOUN по_...</td>\n",
              "      <td>новое комикс пророк мухаммед появиться франция</td>\n",
              "      <td>франция издать комикс мотив жизнь пророк мухаммад</td>\n",
              "      <td>новые комиксы о пророке мухаммеде появились во...</td>\n",
              "      <td>во франции издали комикс по мотивам жизни прор...</td>\n",
              "      <td>[[1.0]]</td>\n",
              "      <td>[[1.0]]</td>\n",
              "      <td>[[0.42281589417516074]]</td>\n",
              "      <td>[[1.0000000085924148]]</td>\n",
              "      <td>[[1.0]]</td>\n",
              "    </tr>\n",
              "    <tr>\n",
              "      <th>27</th>\n",
              "      <td>0</td>\n",
              "      <td>Число убитых в ходе конфликта в Сирии превысил...</td>\n",
              "      <td>В ходе сирийского конфликта погибли 60 тысяч ч...</td>\n",
              "      <td>число_NOUN убивать_VERB в_ADP ход_NOUN конфлик...</td>\n",
              "      <td>в_ADP ход_NOUN сирийский_ADJ конфликт_NOUN пог...</td>\n",
              "      <td>число убитый ход конфликт сирия превысить 60 т...</td>\n",
              "      <td>ход сирийский конфликт погибнуть 60 тысяча чел...</td>\n",
              "      <td>число убитых в ходе конфликта в сирии превысил...</td>\n",
              "      <td>в ходе сирийского конфликта погибли 60 тысяч ч...</td>\n",
              "      <td>[[1.0]]</td>\n",
              "      <td>[[1.0]]</td>\n",
              "      <td>[[0.19103277546190012]]</td>\n",
              "      <td>[[1.0000019888413305]]</td>\n",
              "      <td>[[1.0]]</td>\n",
              "    </tr>\n",
              "    <tr>\n",
              "      <th>28</th>\n",
              "      <td>1</td>\n",
              "      <td>В США скончалась звезда эстрады 1950-х Патти П...</td>\n",
              "      <td>Скончалась американская певица Патти Пейдж.</td>\n",
              "      <td>в_ADP сша_NOUN скончаться_VERB звезда_NOUN эст...</td>\n",
              "      <td>скончаться_VERB американский_ADJ певица_NOUN п...</td>\n",
              "      <td>сша скончаться звезда эстрада 1950-ха патти пейдж</td>\n",
              "      <td>скончаться американский певица патти пейдж</td>\n",
              "      <td>в сша скончалась звезда эстрады 1950-х патти п...</td>\n",
              "      <td>скончалась американская певица патти пейдж</td>\n",
              "      <td>[[1.0]]</td>\n",
              "      <td>[[1.0]]</td>\n",
              "      <td>[[0.4124218402954176]]</td>\n",
              "      <td>[[0.29698415460523275]]</td>\n",
              "      <td>[[1.0]]</td>\n",
              "    </tr>\n",
              "    <tr>\n",
              "      <th>29</th>\n",
              "      <td>1</td>\n",
              "      <td>Сенат США единогласно осудил \"закон Димы Яковл...</td>\n",
              "      <td>Сенат США единогласно осудил запрет на усыновл...</td>\n",
              "      <td>сенат_NOUN сша_NOUN единогласно_ADV осуждать_V...</td>\n",
              "      <td>сенат_NOUN сша_NOUN единогласно_ADV осуждать_V...</td>\n",
              "      <td>сенат сша единогласно осудить закон дима яковлев</td>\n",
              "      <td>сенат сша единогласно осудить запрет усыновление</td>\n",
              "      <td>сенат сша единогласно осудил закон димы яковлева</td>\n",
              "      <td>сенат сша единогласно осудил запрет на усыновл...</td>\n",
              "      <td>[[1.0]]</td>\n",
              "      <td>[[1.0]]</td>\n",
              "      <td>[[0.08352395801398971]]</td>\n",
              "      <td>[[1.0000000000000013]]</td>\n",
              "      <td>[[1.0]]</td>\n",
              "    </tr>\n",
              "  </tbody>\n",
              "</table>\n",
              "</div>"
            ],
            "text/plain": [
              "    label                                             text_1  \\\n",
              "0       0  Полицейским разрешат стрелять на поражение по ...   \n",
              "1       0  Право полицейских на проникновение в жилище ре...   \n",
              "2       0  Президент Египта ввел чрезвычайное положение в...   \n",
              "3      -1  Вернувшихся из Сирии россиян волнует вопрос тр...   \n",
              "4       0  В Москву из Сирии вернулись 2 самолета МЧС с р...   \n",
              "5       1  Приставы соберут отпечатки пальцев российских ...   \n",
              "6      -1  На саратовского дебошира с борта самолета Моск...   \n",
              "7       0  ЦИК хочет отказаться от электронной системы по...   \n",
              "8      -1  Суд Петербурга оставил на потом дело о гибели ...   \n",
              "9      -1  Страны ОПЕК сократили добычу нефти на 1 млн ба...   \n",
              "10      1  Москвичи смогут забронировать в Интернете мест...   \n",
              "11     -1  Въезд в центр Москвы автомобилям с двигателями...   \n",
              "12      0  В Подмосковье произошел пожар на железной дороге.   \n",
              "13      1  Северокорейский лидер впервые за 19 лет поздра...   \n",
              "14      1  Мужчина из Подмосковья случайно убил жену в Но...   \n",
              "15      0  Избежать \"фискального обрыва\": Сенат США подде...   \n",
              "16      0    \"Фискальный обрыв\" в США временно предотвращен.   \n",
              "17      1        Житель Украины расстрелял посетителей кафе.   \n",
              "18      0  В Кот-Д`Ивуаре десятки человек погибли в давке...   \n",
              "19      0                В Абхазии отомстили за Деда Хасана.   \n",
              "20      0  Чечня попросила националистов составить кодекс...   \n",
              "21      1  В новогоднюю ночь во Франции сожгли больше тыс...   \n",
              "22      1  В Анголе в давке во время церковной службы пог...   \n",
              "23      1  Morgan Stanley взял на работу бывшего зампреда...   \n",
              "24      1  Конгресс США утвердил план по предотвращению \"...   \n",
              "25      0  Счетная палата проверит Газпром на непрофильны...   \n",
              "26      1  Новые комиксы о пророке Мухаммеде появились во...   \n",
              "27      0  Число убитых в ходе конфликта в Сирии превысил...   \n",
              "28      1  В США скончалась звезда эстрады 1950-х Патти П...   \n",
              "29      1  Сенат США единогласно осудил \"закон Димы Яковл...   \n",
              "\n",
              "                                               text_2  \\\n",
              "0   Полиции могут разрешить стрелять по хулиганам ...   \n",
              "1   Правила внесудебного проникновения полицейских...   \n",
              "2   Власти Египта угрожают ввести в стране чрезвыч...   \n",
              "3   Самолеты МЧС вывезут россиян из разрушенной Си...   \n",
              "4   Самолеты МЧС вывезут россиян из разрушенной Си...   \n",
              "5   Приставы снимут отпечатки пальцев у злостных н...   \n",
              "6   Саратовский дебошир отказывается возвращаться ...   \n",
              "7   ЦИК может отказаться от электронных средств по...   \n",
              "8   Лондонский Гайд-парк - это не место для митинг...   \n",
              "9   Обама продлил полномочия НАСА по сотрудничеств...   \n",
              "10  В Москве можно будет забронировать место на кл...   \n",
              "11  Сборная России пробилась в плей-офф чемпионата...   \n",
              "12      В Подмосковье загорелись цистерны с бензином.   \n",
              "13  Лидер КНДР впервые за 19 лет поздравил согражд...   \n",
              "14  Житель Подмосковья случайно убил жену на новог...   \n",
              "15        Сенат США не допустит \"фискального обрыва\".   \n",
              "16        Сенат США не допустит \"фискального обрыва\".   \n",
              "17  На Украине мужчина через окно расстрелял посет...   \n",
              "18  В давке у стадиона в Кот-д’Ивуаре погибли 60 ч...   \n",
              "19                 В Абхазии убили врага Деда Хасана.   \n",
              "20  Националисты помогут Чечне составить кодекс по...   \n",
              "21  В новогоднюю ночь во Франции сожгли 1193 автом...   \n",
              "22  В ходе давки на церковной службе в Анголе поги...   \n",
              "23   Бывший глава ФСФР нашел работу в Morgan Stanley.   \n",
              "24  Палата представителей утвердила план предотвра...   \n",
              "25  Счетная палата проверит \"Газпром\" впервые за п...   \n",
              "26  Во Франции издали комикс по мотивам жизни прор...   \n",
              "27  В ходе сирийского конфликта погибли 60 тысяч ч...   \n",
              "28        Скончалась американская певица Патти Пейдж.   \n",
              "29  Сенат США единогласно осудил запрет на усыновл...   \n",
              "\n",
              "                                          text_1_norm  \\\n",
              "0   полицейский_NOUN разрешать_VERB стрелять_VERB ...   \n",
              "1   право_ADV полицейский_NOUN на_ADP проникновени...   \n",
              "2   президент_NOUN египет_NOUN вводить_VERB чрезвы...   \n",
              "3   вернуться_VERB из_ADP сирия_NOUN россиянин_NOU...   \n",
              "4   в_ADP москва_NOUN из_ADP сирия_NOUN вернуться_...   \n",
              "5   пристав_NOUN собирать_VERB отпечаток_NOUN пале...   \n",
              "6   на_ADP саратовский_ADJ дебошир_NOUN с_ADP борт...   \n",
              "7   цик_NOUN хотеть_VERB отказываться_VERB от_ADP ...   \n",
              "8   суд_NOUN петербург_NOUN оставлять_VERB на_ADP ...   \n",
              "9   страна_NOUN опек_NOUN сокращать_VERB добыча_NO...   \n",
              "10  москвич_NOUN смочь_VERB забронировать_VERB в_A...   \n",
              "11  въезд_NOUN в_ADP центр_NOUN москва_NOUN автомо...   \n",
              "12  в_ADP подмосковье_NOUN происходить_VERB пожар_...   \n",
              "13  северокорейский_ADJ лидер_NOUN впервые_ADV за_...   \n",
              "14  мужчина_NOUN из_ADP подмосковье_NOUN случайно_...   \n",
              "15  избегать_VERB фискальный_ADJ обрыв_NOUN сенат_...   \n",
              "16  фискальный_ADJ обрыв_NOUN в_ADP сша_NOUN време...   \n",
              "17  житель_NOUN украина_NOUN расстреливать_VERB по...   \n",
              "18  в_ADP кот_NOUN д_NOUN ивуар_NOUN десяток_NOUN ...   \n",
              "19  в_ADP абхазия_NOUN отомщать_VERB за_ADP дед_NO...   \n",
              "20  чечня_NOUN попросить_VERB националист_NOUN сос...   \n",
              "21  в_ADP новогодний_ADJ ночь_NOUN во_ADP франция_...   \n",
              "22  в_ADP ангола_NOUN в_ADP давка_NOUN во_ADP врем...   \n",
              "23  Morgan_X Stanley_X взять_VERB на_ADP работа_NO...   \n",
              "24  конгресс_NOUN сша_NOUN утверждать_VERB план_NO...   \n",
              "25  счетный_ADJ палата_NOUN проверять_VERB газпром...   \n",
              "26  новый_ADJ комикс_NOUN о_ADP пророк_NOUN мухамм...   \n",
              "27  число_NOUN убивать_VERB в_ADP ход_NOUN конфлик...   \n",
              "28  в_ADP сша_NOUN скончаться_VERB звезда_NOUN эст...   \n",
              "29  сенат_NOUN сша_NOUN единогласно_ADV осуждать_V...   \n",
              "\n",
              "                                          text_2_norm  \\\n",
              "0   полиция_NOUN мочь_VERB разрешать_VERB стрелять...   \n",
              "1   правило_NOUN внесудебный_ADJ проникновение_NOU...   \n",
              "2   власть_NOUN египет_NOUN угрожать_VERB вводить_...   \n",
              "3   самолет_NOUN мчс_NOUN вывозить_VERB россиянин_...   \n",
              "4   самолет_NOUN мчс_NOUN вывозить_VERB россиянин_...   \n",
              "5   пристав_NOUN снимать_VERB отпечаток_NOUN палец...   \n",
              "6   саратовский_ADJ дебошир_NOUN отказываться_VERB...   \n",
              "7   цик_NOUN мочь_VERB отказываться_VERB от_ADP эл...   \n",
              "8   лондонский_ADJ гайд_NOUN парк_NOUN это_PART не...   \n",
              "9   обама_NOUN продлять_VERB полномочие_NOUN нас_N...   \n",
              "10  в_ADP москва_NOUN можно_ADV быть_VERB забронир...   \n",
              "11  сборная_NOUN россия_NOUN пробиваться_VERB в_AD...   \n",
              "12  в_ADP подмосковье_NOUN загораться_VERB цистерн...   \n",
              "13  лидер_NOUN кндр_NOUN впервые_ADV за_ADP год_NO...   \n",
              "14  житель_NOUN подмосковье_NOUN случайно_ADV убив...   \n",
              "15  сенат_NOUN сша_NOUN не_PART допускать_VERB фис...   \n",
              "16  сенат_NOUN сша_NOUN не_PART допускать_VERB фис...   \n",
              "17  на_ADP украина_NOUN мужчина_NOUN через_ADP окн...   \n",
              "18  в_ADP давка_NOUN у_ADP стадион_NOUN в_ADP кот_...   \n",
              "19  в_ADP абхазия_NOUN убивать_VERB враг_NOUN дед_...   \n",
              "20  националист_NOUN помогать_VERB чечня_NOUN сост...   \n",
              "21  в_ADP новогодний_ADJ ночь_NOUN во_ADP франция_...   \n",
              "22  в_ADP ход_NOUN давка_NOUN на_ADP церковный_ADJ...   \n",
              "23  бывший_ADJ глава_NOUN ФСФР_X находить_VERB раб...   \n",
              "24  палата_NOUN представитель_NOUN утверждать_VERB...   \n",
              "25  счетный_ADJ палата_NOUN проверять_VERB газпром...   \n",
              "26  во_ADP франция_NOUN издали_ADV комикс_NOUN по_...   \n",
              "27  в_ADP ход_NOUN сирийский_ADJ конфликт_NOUN пог...   \n",
              "28  скончаться_VERB американский_ADJ певица_NOUN п...   \n",
              "29  сенат_NOUN сша_NOUN единогласно_ADV осуждать_V...   \n",
              "\n",
              "                                             text_1_n  \\\n",
              "0   полицейский разрешить стрелять поражение гражд...   \n",
              "1   право полицейский проникновение жилища решить ...   \n",
              "2   президент египет ввести чрезвычайный положение...   \n",
              "3   вернуться сирия россиянин волновать вопрос тру...   \n",
              "4   москва сирия вернуться 2 самолёт мчс россиянин...   \n",
              "5   пристав собрать отпечаток палец российский дол...   \n",
              "6   саратовский дебошир борт самолёт москва хургад...   \n",
              "7   цик хотеть отказаться электронный система подс...   \n",
              "8   суд петербург оставить дело гибель подросток п...   \n",
              "9   страна опека сократить добыча нефть 1 миллион ...   \n",
              "10  москвич смочь забронировать интернет место кла...   \n",
              "11  въезд центр москва автомобиль двигатель евро-2...   \n",
              "12        подмосковье произойти пожар железный дорога   \n",
              "13  северокорейский лидер впервые 19 год поздравит...   \n",
              "14  мужчина подмосковье случайно убить жена новый год   \n",
              "15  избежать фискальный обрыв сенат сша поддержать...   \n",
              "16        фискальный обрыв сша временно предотвратить   \n",
              "17         житель украина расстрелять посетитель кафе   \n",
              "18  кот-д`ивуаре десятка человек погибнуть давка н...   \n",
              "19                        абхазия отомстить дед хасан   \n",
              "20  чечня попросить националист составить кодекс п...   \n",
              "21        новогодний ночь франция сжечь тысяча машина   \n",
              "22  ангола давка время церковный служба погибнуть ...   \n",
              "23  morgan stanley взять работа бывший зампред бан...   \n",
              "24  конгресс сша утвердить план предотвращение фис...   \n",
              "25  счётный палата проверить газпром непрофильный ...   \n",
              "26     новое комикс пророк мухаммед появиться франция   \n",
              "27  число убитый ход конфликт сирия превысить 60 т...   \n",
              "28  сша скончаться звезда эстрада 1950-ха патти пейдж   \n",
              "29   сенат сша единогласно осудить закон дима яковлев   \n",
              "\n",
              "                                             text_2_n  \\\n",
              "0   полиция мочь разрешить стрелять хулиган травма...   \n",
              "1   правило внесудебный проникновение полицейский ...   \n",
              "2   власть египет угрожать ввести страна чрезвычай...   \n",
              "3       самолёт мчс вывезти россиянин разрушить сирия   \n",
              "4       самолёт мчс вывезти россиянин разрушить сирия   \n",
              "5   пристав снять отпечаток палец злостный неплате...   \n",
              "6   саратовский дебошир отказываться возвращаться ...   \n",
              "7   цик отказаться электронный средство подсчёт голос   \n",
              "8   лондонский гайд-парк это место митинг прежде парк   \n",
              "9   обама продлить полномочие наса сотрудничество ...   \n",
              "10       москва забронировать место кладбище интернет   \n",
              "11  сборная россия пробиться плей-офф чемпионат ми...   \n",
              "12             подмосковье загореться цистерна бензин   \n",
              "13  лидер кндр впервые 19 год поздравить сограждан...   \n",
              "14  житель подмосковье случайно убить жена новогод...   \n",
              "15               сенат сша допустить фискальный обрыв   \n",
              "16               сенат сша допустить фискальный обрыв   \n",
              "17   украина мужчина окно расстрелять посетитель кафе   \n",
              "18     давка стадион кот-д’ивуар погибнуть 60 человек   \n",
              "19                       абхазия убить враг дед хасан   \n",
              "20  националист помочь чечня составить кодекс пове...   \n",
              "21      новогодний ночь франция сжечь 1193 автомобиль   \n",
              "22  ход давка церковный служба ангола погибнуть 10...   \n",
              "23      бывший глава фсфр найти работа morgan stanley   \n",
              "24  палата представитель утвердить план предотвращ...   \n",
              "25  счётный палата проверить газпром впервые пять год   \n",
              "26  франция издать комикс мотив жизнь пророк мухаммад   \n",
              "27  ход сирийский конфликт погибнуть 60 тысяча чел...   \n",
              "28         скончаться американский певица патти пейдж   \n",
              "29   сенат сша единогласно осудить запрет усыновление   \n",
              "\n",
              "                                       text_1_notnorm  \\\n",
              "0   полицейским разрешат стрелять на поражение по ...   \n",
              "1   право полицейских на проникновение в жилище ре...   \n",
              "2   президент египта ввел чрезвычайное положение в...   \n",
              "3   вернувшихся из сирии россиян волнует вопрос тр...   \n",
              "4   в москву из сирии вернулись 2 самолета мчс с р...   \n",
              "5   приставы соберут отпечатки пальцев российских ...   \n",
              "6   на саратовского дебошира с борта самолета моск...   \n",
              "7   цик хочет отказаться от электронной системы по...   \n",
              "8   суд петербурга оставил на потом дело о гибели ...   \n",
              "9   страны опек сократили добычу нефти на 1 млн ба...   \n",
              "10  москвичи смогут забронировать в интернете мест...   \n",
              "11  въезд в центр москвы автомобилям с двигателями...   \n",
              "12   в подмосковье произошел пожар на железной дороге   \n",
              "13  северокорейский лидер впервые за 19 лет поздра...   \n",
              "14  мужчина из подмосковья случайно убил жену в но...   \n",
              "15  избежать фискального обрыва сенат сша поддержа...   \n",
              "16       фискальный обрыв в сша временно предотвращен   \n",
              "17         житель украины расстрелял посетителей кафе   \n",
              "18  в кот-д`ивуаре десятки человек погибли в давке...   \n",
              "19                 в абхазии отомстили за деда хасана   \n",
              "20  чечня попросила националистов составить кодекс...   \n",
              "21  в новогоднюю ночь во франции сожгли больше тыс...   \n",
              "22  в анголе в давке во время церковной службы пог...   \n",
              "23  morgan stanley взял на работу бывшего зампреда...   \n",
              "24  конгресс сша утвердил план по предотвращению ф...   \n",
              "25  счетная палата проверит газпром на непрофильны...   \n",
              "26  новые комиксы о пророке мухаммеде появились во...   \n",
              "27  число убитых в ходе конфликта в сирии превысил...   \n",
              "28  в сша скончалась звезда эстрады 1950-х патти п...   \n",
              "29   сенат сша единогласно осудил закон димы яковлева   \n",
              "\n",
              "                                       text_2_notnorm cos_sim_w2v  \\\n",
              "0   полиции могут разрешить стрелять по хулиганам ...     [[1.0]]   \n",
              "1   правила внесудебного проникновения полицейских...     [[1.0]]   \n",
              "2   власти египта угрожают ввести в стране чрезвыч...     [[1.0]]   \n",
              "3   самолеты мчс вывезут россиян из разрушенной сирии     [[1.0]]   \n",
              "4   самолеты мчс вывезут россиян из разрушенной сирии     [[1.0]]   \n",
              "5   приставы снимут отпечатки пальцев у злостных н...     [[1.0]]   \n",
              "6   саратовский дебошир отказывается возвращаться ...     [[1.0]]   \n",
              "7   цик может отказаться от электронных средств по...     [[1.0]]   \n",
              "8   лондонский гайд-парк  это не место для митинго...     [[1.0]]   \n",
              "9   обама продлил полномочия наса по сотрудничеств...     [[1.0]]   \n",
              "10  в москве можно будет забронировать место на кл...     [[1.0]]   \n",
              "11  сборная россии пробилась в плей-офф чемпионата...     [[1.0]]   \n",
              "12       в подмосковье загорелись цистерны с бензином     [[1.0]]   \n",
              "13  лидер кндр впервые за 19 лет поздравил согражд...     [[1.0]]   \n",
              "14  житель подмосковья случайно убил жену на новог...     [[1.0]]   \n",
              "15           сенат сша не допустит фискального обрыва     [[1.0]]   \n",
              "16           сенат сша не допустит фискального обрыва     [[1.0]]   \n",
              "17  на украине мужчина через окно расстрелял посет...     [[1.0]]   \n",
              "18  в давке у стадиона в кот-д’ивуаре погибли 60 ч...     [[1.0]]   \n",
              "19                  в абхазии убили врага деда хасана     [[1.0]]   \n",
              "20  националисты помогут чечне составить кодекс по...     [[1.0]]   \n",
              "21  в новогоднюю ночь во франции сожгли 1193 автом...     [[1.0]]   \n",
              "22  в ходе давки на церковной службе в анголе поги...     [[1.0]]   \n",
              "23    бывший глава фсфр нашел работу в morgan stanley     [[1.0]]   \n",
              "24  палата представителей утвердила план предотвра...     [[1.0]]   \n",
              "25  счетная палата проверит газпром впервые за пят...     [[1.0]]   \n",
              "26  во франции издали комикс по мотивам жизни прор...     [[1.0]]   \n",
              "27  в ходе сирийского конфликта погибли 60 тысяч ч...     [[1.0]]   \n",
              "28         скончалась американская певица патти пейдж     [[1.0]]   \n",
              "29  сенат сша единогласно осудил запрет на усыновл...     [[1.0]]   \n",
              "\n",
              "   cos_sim_taiga                cos_sim_ft              cos_sim_svd  \\\n",
              "0        [[1.0]]   [[0.23127745300379465]]   [[1.5167255366574488]]   \n",
              "1        [[1.0]]   [[0.21128477999455342]]   [[1.2796345871528942]]   \n",
              "2        [[1.0]]    [[0.4057655013449778]]   [[1.9335628681107064]]   \n",
              "3        [[1.0]]    [[0.5623136002783127]]   [[1.0583921397083726]]   \n",
              "4        [[1.0]]    [[0.5648112352713865]]   [[1.6521676258562137]]   \n",
              "5        [[1.0]]    [[0.2761561967552667]]   [[1.2409248206942942]]   \n",
              "6        [[1.0]]    [[0.5540815127930185]]   [[0.5132558063611543]]   \n",
              "7        [[1.0]]   [[0.09871484883111359]]   [[1.8652235219563569]]   \n",
              "8        [[1.0]]    [[0.7484882028719091]]   [[1.0000000000000002]]   \n",
              "9        [[1.0]]     [[0.729540213114237]]   [[0.9999999998347713]]   \n",
              "10       [[1.0]]  [[0.054444379163249734]]    [[0.971502743216417]]   \n",
              "11       [[1.0]]    [[0.4393663686562861]]    [[1.000000000000911]]   \n",
              "12       [[1.0]]    [[0.5092811264635615]]   [[0.9999999999999999]]   \n",
              "13       [[1.0]]  [[0.008412530344235725]]   [[0.9228000909843639]]   \n",
              "14       [[1.0]]    [[0.4559098850923252]]   [[0.9999094803514756]]   \n",
              "15       [[1.0]]   [[0.10982091977181696]]   [[1.0000000000000007]]   \n",
              "16       [[1.0]]    [[0.1108937199272787]]   [[0.9999999999996999]]   \n",
              "17       [[1.0]]    [[0.3619871129672647]]   [[1.0161480534555645]]   \n",
              "18       [[1.0]]    [[0.0428946709697402]]   [[0.9999999999990229]]   \n",
              "19       [[1.0]]   [[0.27591625126234365]]   [[0.9999999999999999]]   \n",
              "20       [[1.0]]   [[0.03582318204207802]]   [[0.9999436245754736]]   \n",
              "21       [[1.0]]   [[0.29353049170749723]]   [[1.1255060397554386]]   \n",
              "22       [[1.0]]   [[0.15222352645992365]]   [[1.0000000000000022]]   \n",
              "23       [[1.0]]    [[0.4520341770730524]]   [[0.9989050271010983]]   \n",
              "24       [[1.0]]    [[0.2908127765012487]]   [[0.9737393407890168]]   \n",
              "25       [[1.0]]     [[0.510407818225681]]   [[1.0000000001598652]]   \n",
              "26       [[1.0]]   [[0.42281589417516074]]   [[1.0000000085924148]]   \n",
              "27       [[1.0]]   [[0.19103277546190012]]   [[1.0000019888413305]]   \n",
              "28       [[1.0]]    [[0.4124218402954176]]  [[0.29698415460523275]]   \n",
              "29       [[1.0]]   [[0.08352395801398971]]   [[1.0000000000000013]]   \n",
              "\n",
              "   cos_sim_nmf  \n",
              "0      [[1.0]]  \n",
              "1      [[1.0]]  \n",
              "2      [[1.0]]  \n",
              "3      [[1.0]]  \n",
              "4      [[1.0]]  \n",
              "5      [[1.0]]  \n",
              "6      [[1.0]]  \n",
              "7      [[1.0]]  \n",
              "8      [[1.0]]  \n",
              "9      [[1.0]]  \n",
              "10     [[1.0]]  \n",
              "11     [[1.0]]  \n",
              "12     [[1.0]]  \n",
              "13     [[1.0]]  \n",
              "14     [[1.0]]  \n",
              "15     [[1.0]]  \n",
              "16     [[1.0]]  \n",
              "17     [[1.0]]  \n",
              "18     [[1.0]]  \n",
              "19     [[1.0]]  \n",
              "20     [[1.0]]  \n",
              "21     [[1.0]]  \n",
              "22     [[1.0]]  \n",
              "23     [[1.0]]  \n",
              "24     [[1.0]]  \n",
              "25     [[1.0]]  \n",
              "26     [[1.0]]  \n",
              "27     [[1.0]]  \n",
              "28     [[1.0]]  \n",
              "29     [[1.0]]  "
            ]
          },
          "metadata": {
            "tags": []
          },
          "execution_count": 90
        }
      ]
    },
    {
      "cell_type": "markdown",
      "metadata": {
        "id": "wI6ea2LDe521",
        "colab_type": "text"
      },
      "source": [
        "### Последний шаг"
      ]
    },
    {
      "cell_type": "code",
      "metadata": {
        "id": "BHmCOhM-e9Bt",
        "colab_type": "code",
        "colab": {}
      },
      "source": [
        "X_cos_sim = data[['cos_sim_w2v', 'cos_sim_taiga', 'cos_sim_ft', 'cos_sim_svd', 'cos_sim_nmf']].values"
      ],
      "execution_count": 0,
      "outputs": []
    },
    {
      "cell_type": "code",
      "metadata": {
        "id": "iXg6y4ejft35",
        "colab_type": "code",
        "colab": {}
      },
      "source": [
        "train_X, valid_X, train_y, valid_y = train_test_split(X_cos_sim, y, random_state=1)"
      ],
      "execution_count": 0,
      "outputs": []
    },
    {
      "cell_type": "code",
      "metadata": {
        "id": "8PKZg6FaJota",
        "colab_type": "code",
        "colab": {
          "base_uri": "https://localhost:8080/",
          "height": 34
        },
        "outputId": "b4d025f4-dc88-4545-fcb5-6ae7527db73d"
      },
      "source": [
        "clf = RandomForestClassifier(n_estimators=100, max_depth=7, min_samples_leaf=15,\n",
        "                             class_weight='balanced')\n",
        "print(cross_val_score(clf, X_cos_sim, y, scoring='f1_micro', cv=5))"
      ],
      "execution_count": 94,
      "outputs": [
        {
          "output_type": "stream",
          "text": [
            "[0.49239281 0.53526971 0.54256055 0.45536332 0.45605536]\n"
          ],
          "name": "stdout"
        }
      ]
    },
    {
      "cell_type": "code",
      "metadata": {
        "id": "GtdFY0kgJzAf",
        "colab_type": "code",
        "colab": {
          "base_uri": "https://localhost:8080/",
          "height": 34
        },
        "outputId": "096d2b05-edf9-48d0-bab9-7386ed5e6758"
      },
      "source": [
        "clf_lr = LogisticRegression(C=1000, class_weight='balanced')\n",
        "X_scaled = preprocessing.scale(X_cos_sim)\n",
        "print(cross_val_score(clf_lr, X_scaled, y, scoring='f1_micro', cv=5))"
      ],
      "execution_count": 95,
      "outputs": [
        {
          "output_type": "stream",
          "text": [
            "[0.45850622 0.49723375 0.51211073 0.4366782  0.41868512]\n"
          ],
          "name": "stdout"
        }
      ]
    },
    {
      "cell_type": "code",
      "metadata": {
        "id": "KwuDVnnkfzm8",
        "colab_type": "code",
        "colab": {}
      },
      "source": [
        ""
      ],
      "execution_count": 0,
      "outputs": []
    }
  ]
}